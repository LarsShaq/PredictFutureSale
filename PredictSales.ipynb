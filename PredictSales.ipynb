{
 "cells": [
  {
   "cell_type": "code",
   "execution_count": null,
   "metadata": {},
   "outputs": [],
   "source": [
    "# # This file may be used to create an environment using:\n",
    "# # $ conda create --name <env> --file <this file>\n",
    "# # platform: linux-64\n",
    "# _libgcc_mutex=0.1=main\n",
    "# _py-xgboost-mutex=2.0=cpu_0\n",
    "# argon2-cffi=20.1.0=py38h7b6447c_1\n",
    "# attrs=19.3.0=py_0\n",
    "# backcall=0.2.0=py_0\n",
    "# blas=1.0=mkl\n",
    "# bleach=3.1.5=py_0\n",
    "# ca-certificates=2020.6.20=hecda079_0\n",
    "# certifi=2020.6.20=py38h32f6830_0\n",
    "# cffi=1.14.1=py38he30daa8_0\n",
    "# cycler=0.10.0=py38_0\n",
    "# dbus=1.13.16=hb2f20db_0\n",
    "# decorator=4.4.2=py_0\n",
    "# defusedxml=0.6.0=py_0\n",
    "# entrypoints=0.3=py38_0\n",
    "# expat=2.2.9=he6710b0_2\n",
    "# fontconfig=2.13.0=h9420a91_0\n",
    "# freetype=2.10.2=h5ab3b9f_0\n",
    "# glib=2.65.0=h3eb4bd4_0\n",
    "# gst-plugins-base=1.14.0=hbbd80ab_1\n",
    "# gstreamer=1.14.0=hb31296c_0\n",
    "# icu=58.2=he6710b0_3\n",
    "# importlib-metadata=1.7.0=py38_0\n",
    "# importlib_metadata=1.7.0=0\n",
    "# intel-openmp=2020.1=217\n",
    "# ipykernel=5.3.4=py38h5ca1d4c_0\n",
    "# ipython=7.16.1=py38h5ca1d4c_0\n",
    "# ipython_genutils=0.2.0=py38_0\n",
    "# ipywidgets=7.5.1=py_0\n",
    "# jedi=0.17.0=py38_0\n",
    "# jinja2=2.11.2=py_0\n",
    "# joblib=0.16.0=py_0\n",
    "# jpeg=9b=h024ee3a_2\n",
    "# jsonschema=3.2.0=py38_0\n",
    "# jupyter=1.0.0=py38_7\n",
    "# jupyter_client=6.1.6=py_0\n",
    "# jupyter_console=6.1.0=py_0\n",
    "# jupyter_core=4.6.3=py38_0\n",
    "# kiwisolver=1.2.0=py38hfd86e86_0\n",
    "# ld_impl_linux-64=2.33.1=h53a641e_7\n",
    "# libedit=3.1.20191231=h14c3975_1\n",
    "# libffi=3.3=he6710b0_2\n",
    "# libgcc-ng=9.1.0=hdf63c60_0\n",
    "# libgfortran-ng=7.3.0=hdf63c60_0\n",
    "# libpng=1.6.37=hbc83047_0\n",
    "# libsodium=1.0.18=h7b6447c_0\n",
    "# libstdcxx-ng=9.1.0=hdf63c60_0\n",
    "# libuuid=1.0.3=h1bed415_2\n",
    "# libxcb=1.14=h7b6447c_0\n",
    "# libxgboost=1.1.1=he1b5a44_0\n",
    "# libxml2=2.9.10=he19cac6_1\n",
    "# lightgbm=2.3.0=py38he6710b0_0\n",
    "# markupsafe=1.1.1=py38h7b6447c_0\n",
    "# matplotlib=3.2.2=0\n",
    "# matplotlib-base=3.2.2=py38hef1b27d_0\n",
    "# mistune=0.8.4=py38h7b6447c_1000\n",
    "# mkl=2020.1=217\n",
    "# mkl-service=2.3.0=py38he904b0f_0\n",
    "# mkl_fft=1.1.0=py38h23d657b_0\n",
    "# mkl_random=1.1.1=py38h0573a6f_0\n",
    "# nbconvert=5.6.1=py38_0\n",
    "# nbformat=5.0.7=py_0\n",
    "# ncurses=6.2=he6710b0_1\n",
    "# notebook=6.1.1=py38_0\n",
    "# numpy=1.19.1=py38hbc911f0_0\n",
    "# numpy-base=1.19.1=py38hfa32c7d_0\n",
    "# openssl=1.1.1g=h516909a_1\n",
    "# packaging=20.4=py_0\n",
    "# pandas=1.1.0=py38he6710b0_0\n",
    "# pandoc=2.10.1=0\n",
    "# pandocfilters=1.4.2=py38_1\n",
    "# parso=0.8.0=py_0\n",
    "# pcre=8.44=he6710b0_0\n",
    "# pexpect=4.8.0=py38_0\n",
    "# pickleshare=0.7.5=py38_1000\n",
    "# pip=20.2.2=py38_0\n",
    "# prometheus_client=0.8.0=py_0\n",
    "# prompt-toolkit=3.0.5=py_0\n",
    "# prompt_toolkit=3.0.5=0\n",
    "# ptyprocess=0.6.0=py38_0\n",
    "# py-xgboost=1.1.1=py38h32f6830_0\n",
    "# pycparser=2.20=py_2\n",
    "# pygments=2.6.1=py_0\n",
    "# pyparsing=2.4.7=py_0\n",
    "# pyqt=5.9.2=py38h05f1152_4\n",
    "# pyrsistent=0.16.0=py38h7b6447c_0\n",
    "# python=3.8.5=hcff3b4d_0\n",
    "# python-dateutil=2.8.1=py_0\n",
    "# python_abi=3.8=1_cp38\n",
    "# pytz=2020.1=py_0\n",
    "# pyzmq=19.0.1=py38he6710b0_1\n",
    "# qt=5.9.7=h5867ecd_1\n",
    "# qtconsole=4.7.5=py_0\n",
    "# qtpy=1.9.0=py_0\n",
    "# readline=8.0=h7b6447c_0\n",
    "# scikit-learn=0.23.1=py38h423224d_0\n",
    "# scipy=1.5.0=py38h0b6359f_0\n",
    "# seaborn=0.10.1=py_0\n",
    "# send2trash=1.5.0=py38_0\n",
    "# setuptools=49.6.0=py38_0\n",
    "# sip=4.19.13=py38he6710b0_0\n",
    "# six=1.15.0=py_0\n",
    "# sqlite=3.32.3=h62c20be_0\n",
    "# terminado=0.8.3=py38_0\n",
    "# testpath=0.4.4=py_0\n",
    "# threadpoolctl=2.1.0=pyh5ca1d4c_0\n",
    "# tk=8.6.10=hbc83047_0\n",
    "# tornado=6.0.4=py38h7b6447c_1\n",
    "# traitlets=4.3.3=py38_0\n",
    "# wcwidth=0.2.5=py_0\n",
    "# webencodings=0.5.1=py38_1\n",
    "# wheel=0.34.2=py38_0\n",
    "# widgetsnbextension=3.5.1=py38_0\n",
    "# xgboost=1.1.1=py38h950e882_0\n",
    "# xz=5.2.5=h7b6447c_0\n",
    "# zeromq=4.3.2=he6710b0_2\n",
    "# zipp=3.1.0=py_0\n",
    "# zlib=1.2.11=h7b6447c_3"
   ]
  },
  {
   "cell_type": "code",
   "execution_count": 1,
   "metadata": {
    "ExecuteTime": {
     "end_time": "2020-08-21T21:10:11.941627Z",
     "start_time": "2020-08-21T21:10:10.843834Z"
    }
   },
   "outputs": [],
   "source": [
    "import numpy as np\n",
    "import pandas as pd\n",
    "import matplotlib.pyplot as plt\n",
    "import seaborn as sns\n",
    "import gc"
   ]
  },
  {
   "cell_type": "code",
   "execution_count": 2,
   "metadata": {
    "ExecuteTime": {
     "end_time": "2020-08-21T21:10:12.118489Z",
     "start_time": "2020-08-21T21:10:11.943394Z"
    }
   },
   "outputs": [],
   "source": [
    "import lightgbm as lgb\n",
    "from xgboost import XGBRegressor\n",
    "from xgboost import plot_importance\n",
    "from sklearn.metrics import mean_squared_error\n",
    "from sklearn.preprocessing import LabelEncoder\n",
    "from sklearn.linear_model import (LinearRegression, SGDRegressor)\n",
    "from sklearn.preprocessing import StandardScaler"
   ]
  },
  {
   "cell_type": "code",
   "execution_count": 3,
   "metadata": {
    "ExecuteTime": {
     "end_time": "2020-08-21T21:10:12.123255Z",
     "start_time": "2020-08-21T21:10:12.120647Z"
    }
   },
   "outputs": [],
   "source": [
    "pd.set_option('display.max_columns', 100)"
   ]
  },
  {
   "cell_type": "code",
   "execution_count": 4,
   "metadata": {
    "ExecuteTime": {
     "end_time": "2020-08-21T21:10:12.137298Z",
     "start_time": "2020-08-21T21:10:12.125015Z"
    }
   },
   "outputs": [],
   "source": [
    "def reduce_mem_usage(df):\n",
    "    start_mem = df.memory_usage().sum() / 1024**2\n",
    "    print('Memory used by data frame: {:.2f} MB.'.format(start_mem))\n",
    "    for col in df.columns:\n",
    "        col_type = df[col].dtype\n",
    "        if str(col_type)[:3] == 'int' or str(col_type)[:5] == 'float':\n",
    "            c_min = df[col].min()\n",
    "            c_max = df[col].max()\n",
    "            if str(col_type)[:3] == 'int':\n",
    "                if c_min > np.iinfo(np.int8).min and c_max < np.iinfo(np.int8).max:\n",
    "                    df[col] = df[col].astype(np.int8)\n",
    "                elif c_min > np.iinfo(np.int16).min and c_max < np.iinfo(np.int16).max:\n",
    "                    df[col] = df[col].astype(np.int16)\n",
    "                elif c_min > np.iinfo(np.int32).min and c_max < np.iinfo(np.int32).max:\n",
    "                    df[col] = df[col].astype(np.int32)\n",
    "                elif c_min > np.iinfo(np.int64).min and c_max < np.iinfo(np.int64).max:\n",
    "                    df[col] = df[col].astype(np.int64)\n",
    "            else:\n",
    "                if c_min > np.finfo(np.float16).min and c_max < np.finfo(np.float16).max:\n",
    "                    df[col] = df[col].astype(np.float16)\n",
    "                elif c_min > np.finfo(np.float32).min and c_max < np.finfo(np.float32).max:\n",
    "                    df[col] = df[col].astype(np.float32)\n",
    "                else:\n",
    "                    df[col] = df[col].astype(np.float64)\n",
    "        else:\n",
    "            df[col] = df[col].astype('category')\n",
    "    end_mem = df.memory_usage().sum() / 1024**2\n",
    "    print('Memory used after optimization: {:.2f} MB.'.format(end_mem))\n",
    "    print('Memory usage reduced by {:.1f}%.'.format(100 * (start_mem - end_mem) / start_mem))\n",
    "\n",
    "    return df"
   ]
  },
  {
   "cell_type": "code",
   "execution_count": 5,
   "metadata": {
    "ExecuteTime": {
     "end_time": "2020-08-21T21:10:13.482006Z",
     "start_time": "2020-08-21T21:10:12.138712Z"
    }
   },
   "outputs": [],
   "source": [
    "transactions = pd.read_csv(\"/home/lars/Dokumente/projects/predictFutureSales/sales_train.csv\")\n",
    "item_categories = pd.read_csv(\"/home/lars/Dokumente/projects/predictFutureSales/item_categories.csv\")\n",
    "items = pd.read_csv(\"/home/lars/Dokumente/projects/predictFutureSales/items.csv\")\n",
    "shops = pd.read_csv(\"/home/lars/Dokumente/projects/predictFutureSales/shops.csv\")\n",
    "test_transactions = pd.read_csv(\"/home/lars/Dokumente/projects/predictFutureSales/test.csv\")"
   ]
  },
  {
   "cell_type": "code",
   "execution_count": 6,
   "metadata": {
    "ExecuteTime": {
     "end_time": "2020-08-21T21:10:13.753879Z",
     "start_time": "2020-08-21T21:10:13.484102Z"
    }
   },
   "outputs": [
    {
     "name": "stdout",
     "output_type": "stream",
     "text": [
      "Transactions\n",
      "(2935849, 6)\n",
      "date               1034\n",
      "date_block_num       34\n",
      "shop_id              60\n",
      "item_id           21807\n",
      "item_price        19993\n",
      "item_cnt_day        198\n",
      "dtype: int64\n"
     ]
    },
    {
     "data": {
      "text/html": [
       "<div>\n",
       "<style scoped>\n",
       "    .dataframe tbody tr th:only-of-type {\n",
       "        vertical-align: middle;\n",
       "    }\n",
       "\n",
       "    .dataframe tbody tr th {\n",
       "        vertical-align: top;\n",
       "    }\n",
       "\n",
       "    .dataframe thead th {\n",
       "        text-align: right;\n",
       "    }\n",
       "</style>\n",
       "<table border=\"1\" class=\"dataframe\">\n",
       "  <thead>\n",
       "    <tr style=\"text-align: right;\">\n",
       "      <th></th>\n",
       "      <th>date</th>\n",
       "      <th>date_block_num</th>\n",
       "      <th>shop_id</th>\n",
       "      <th>item_id</th>\n",
       "      <th>item_price</th>\n",
       "      <th>item_cnt_day</th>\n",
       "    </tr>\n",
       "  </thead>\n",
       "  <tbody>\n",
       "    <tr>\n",
       "      <th>0</th>\n",
       "      <td>02.01.2013</td>\n",
       "      <td>0</td>\n",
       "      <td>59</td>\n",
       "      <td>22154</td>\n",
       "      <td>999.00</td>\n",
       "      <td>1.0</td>\n",
       "    </tr>\n",
       "    <tr>\n",
       "      <th>1</th>\n",
       "      <td>03.01.2013</td>\n",
       "      <td>0</td>\n",
       "      <td>25</td>\n",
       "      <td>2552</td>\n",
       "      <td>899.00</td>\n",
       "      <td>1.0</td>\n",
       "    </tr>\n",
       "    <tr>\n",
       "      <th>2</th>\n",
       "      <td>05.01.2013</td>\n",
       "      <td>0</td>\n",
       "      <td>25</td>\n",
       "      <td>2552</td>\n",
       "      <td>899.00</td>\n",
       "      <td>-1.0</td>\n",
       "    </tr>\n",
       "    <tr>\n",
       "      <th>3</th>\n",
       "      <td>06.01.2013</td>\n",
       "      <td>0</td>\n",
       "      <td>25</td>\n",
       "      <td>2554</td>\n",
       "      <td>1709.05</td>\n",
       "      <td>1.0</td>\n",
       "    </tr>\n",
       "    <tr>\n",
       "      <th>4</th>\n",
       "      <td>15.01.2013</td>\n",
       "      <td>0</td>\n",
       "      <td>25</td>\n",
       "      <td>2555</td>\n",
       "      <td>1099.00</td>\n",
       "      <td>1.0</td>\n",
       "    </tr>\n",
       "  </tbody>\n",
       "</table>\n",
       "</div>"
      ],
      "text/plain": [
       "         date  date_block_num  shop_id  item_id  item_price  item_cnt_day\n",
       "0  02.01.2013               0       59    22154      999.00           1.0\n",
       "1  03.01.2013               0       25     2552      899.00           1.0\n",
       "2  05.01.2013               0       25     2552      899.00          -1.0\n",
       "3  06.01.2013               0       25     2554     1709.05           1.0\n",
       "4  15.01.2013               0       25     2555     1099.00           1.0"
      ]
     },
     "execution_count": 6,
     "metadata": {},
     "output_type": "execute_result"
    }
   ],
   "source": [
    "print(\"Transactions\")\n",
    "print(transactions.shape)\n",
    "print(transactions.nunique())\n",
    "transactions.head()"
   ]
  },
  {
   "cell_type": "code",
   "execution_count": 7,
   "metadata": {
    "ExecuteTime": {
     "end_time": "2020-08-21T21:10:13.782784Z",
     "start_time": "2020-08-21T21:10:13.755683Z"
    }
   },
   "outputs": [
    {
     "name": "stdout",
     "output_type": "stream",
     "text": [
      "(22170, 3)\n",
      "item_name           22170\n",
      "item_id             22170\n",
      "item_category_id       84\n",
      "dtype: int64\n"
     ]
    },
    {
     "data": {
      "text/html": [
       "<div>\n",
       "<style scoped>\n",
       "    .dataframe tbody tr th:only-of-type {\n",
       "        vertical-align: middle;\n",
       "    }\n",
       "\n",
       "    .dataframe tbody tr th {\n",
       "        vertical-align: top;\n",
       "    }\n",
       "\n",
       "    .dataframe thead th {\n",
       "        text-align: right;\n",
       "    }\n",
       "</style>\n",
       "<table border=\"1\" class=\"dataframe\">\n",
       "  <thead>\n",
       "    <tr style=\"text-align: right;\">\n",
       "      <th></th>\n",
       "      <th>item_name</th>\n",
       "      <th>item_id</th>\n",
       "      <th>item_category_id</th>\n",
       "    </tr>\n",
       "  </thead>\n",
       "  <tbody>\n",
       "    <tr>\n",
       "      <th>0</th>\n",
       "      <td>! ВО ВЛАСТИ НАВАЖДЕНИЯ (ПЛАСТ.)         D</td>\n",
       "      <td>0</td>\n",
       "      <td>40</td>\n",
       "    </tr>\n",
       "    <tr>\n",
       "      <th>1</th>\n",
       "      <td>!ABBYY FineReader 12 Professional Edition Full...</td>\n",
       "      <td>1</td>\n",
       "      <td>76</td>\n",
       "    </tr>\n",
       "    <tr>\n",
       "      <th>2</th>\n",
       "      <td>***В ЛУЧАХ СЛАВЫ   (UNV)                    D</td>\n",
       "      <td>2</td>\n",
       "      <td>40</td>\n",
       "    </tr>\n",
       "    <tr>\n",
       "      <th>3</th>\n",
       "      <td>***ГОЛУБАЯ ВОЛНА  (Univ)                      D</td>\n",
       "      <td>3</td>\n",
       "      <td>40</td>\n",
       "    </tr>\n",
       "    <tr>\n",
       "      <th>4</th>\n",
       "      <td>***КОРОБКА (СТЕКЛО)                       D</td>\n",
       "      <td>4</td>\n",
       "      <td>40</td>\n",
       "    </tr>\n",
       "  </tbody>\n",
       "</table>\n",
       "</div>"
      ],
      "text/plain": [
       "                                           item_name  item_id  \\\n",
       "0          ! ВО ВЛАСТИ НАВАЖДЕНИЯ (ПЛАСТ.)         D        0   \n",
       "1  !ABBYY FineReader 12 Professional Edition Full...        1   \n",
       "2      ***В ЛУЧАХ СЛАВЫ   (UNV)                    D        2   \n",
       "3    ***ГОЛУБАЯ ВОЛНА  (Univ)                      D        3   \n",
       "4        ***КОРОБКА (СТЕКЛО)                       D        4   \n",
       "\n",
       "   item_category_id  \n",
       "0                40  \n",
       "1                76  \n",
       "2                40  \n",
       "3                40  \n",
       "4                40  "
      ]
     },
     "execution_count": 7,
     "metadata": {},
     "output_type": "execute_result"
    }
   ],
   "source": [
    "print(items.shape)\n",
    "print(items.nunique())\n",
    "items.head()"
   ]
  },
  {
   "cell_type": "code",
   "execution_count": 8,
   "metadata": {
    "ExecuteTime": {
     "end_time": "2020-08-21T21:10:13.810888Z",
     "start_time": "2020-08-21T21:10:13.786583Z"
    }
   },
   "outputs": [
    {
     "name": "stdout",
     "output_type": "stream",
     "text": [
      "(60, 2)\n",
      "shop_name    60\n",
      "shop_id      60\n",
      "dtype: int64\n"
     ]
    },
    {
     "data": {
      "text/html": [
       "<div>\n",
       "<style scoped>\n",
       "    .dataframe tbody tr th:only-of-type {\n",
       "        vertical-align: middle;\n",
       "    }\n",
       "\n",
       "    .dataframe tbody tr th {\n",
       "        vertical-align: top;\n",
       "    }\n",
       "\n",
       "    .dataframe thead th {\n",
       "        text-align: right;\n",
       "    }\n",
       "</style>\n",
       "<table border=\"1\" class=\"dataframe\">\n",
       "  <thead>\n",
       "    <tr style=\"text-align: right;\">\n",
       "      <th></th>\n",
       "      <th>shop_name</th>\n",
       "      <th>shop_id</th>\n",
       "    </tr>\n",
       "  </thead>\n",
       "  <tbody>\n",
       "    <tr>\n",
       "      <th>0</th>\n",
       "      <td>!Якутск Орджоникидзе, 56 фран</td>\n",
       "      <td>0</td>\n",
       "    </tr>\n",
       "    <tr>\n",
       "      <th>1</th>\n",
       "      <td>!Якутск ТЦ \"Центральный\" фран</td>\n",
       "      <td>1</td>\n",
       "    </tr>\n",
       "    <tr>\n",
       "      <th>2</th>\n",
       "      <td>Адыгея ТЦ \"Мега\"</td>\n",
       "      <td>2</td>\n",
       "    </tr>\n",
       "    <tr>\n",
       "      <th>3</th>\n",
       "      <td>Балашиха ТРК \"Октябрь-Киномир\"</td>\n",
       "      <td>3</td>\n",
       "    </tr>\n",
       "    <tr>\n",
       "      <th>4</th>\n",
       "      <td>Волжский ТЦ \"Волга Молл\"</td>\n",
       "      <td>4</td>\n",
       "    </tr>\n",
       "    <tr>\n",
       "      <th>5</th>\n",
       "      <td>Вологда ТРЦ \"Мармелад\"</td>\n",
       "      <td>5</td>\n",
       "    </tr>\n",
       "    <tr>\n",
       "      <th>6</th>\n",
       "      <td>Воронеж (Плехановская, 13)</td>\n",
       "      <td>6</td>\n",
       "    </tr>\n",
       "    <tr>\n",
       "      <th>7</th>\n",
       "      <td>Воронеж ТРЦ \"Максимир\"</td>\n",
       "      <td>7</td>\n",
       "    </tr>\n",
       "    <tr>\n",
       "      <th>8</th>\n",
       "      <td>Воронеж ТРЦ Сити-Парк \"Град\"</td>\n",
       "      <td>8</td>\n",
       "    </tr>\n",
       "    <tr>\n",
       "      <th>9</th>\n",
       "      <td>Выездная Торговля</td>\n",
       "      <td>9</td>\n",
       "    </tr>\n",
       "    <tr>\n",
       "      <th>10</th>\n",
       "      <td>Жуковский ул. Чкалова 39м?</td>\n",
       "      <td>10</td>\n",
       "    </tr>\n",
       "    <tr>\n",
       "      <th>11</th>\n",
       "      <td>Жуковский ул. Чкалова 39м²</td>\n",
       "      <td>11</td>\n",
       "    </tr>\n",
       "    <tr>\n",
       "      <th>12</th>\n",
       "      <td>Интернет-магазин ЧС</td>\n",
       "      <td>12</td>\n",
       "    </tr>\n",
       "    <tr>\n",
       "      <th>13</th>\n",
       "      <td>Казань ТЦ \"Бехетле\"</td>\n",
       "      <td>13</td>\n",
       "    </tr>\n",
       "    <tr>\n",
       "      <th>14</th>\n",
       "      <td>Казань ТЦ \"ПаркХаус\" II</td>\n",
       "      <td>14</td>\n",
       "    </tr>\n",
       "    <tr>\n",
       "      <th>15</th>\n",
       "      <td>Калуга ТРЦ \"XXI век\"</td>\n",
       "      <td>15</td>\n",
       "    </tr>\n",
       "    <tr>\n",
       "      <th>16</th>\n",
       "      <td>Коломна ТЦ \"Рио\"</td>\n",
       "      <td>16</td>\n",
       "    </tr>\n",
       "    <tr>\n",
       "      <th>17</th>\n",
       "      <td>Красноярск ТЦ \"Взлетка Плаза\"</td>\n",
       "      <td>17</td>\n",
       "    </tr>\n",
       "    <tr>\n",
       "      <th>18</th>\n",
       "      <td>Красноярск ТЦ \"Июнь\"</td>\n",
       "      <td>18</td>\n",
       "    </tr>\n",
       "    <tr>\n",
       "      <th>19</th>\n",
       "      <td>Курск ТЦ \"Пушкинский\"</td>\n",
       "      <td>19</td>\n",
       "    </tr>\n",
       "    <tr>\n",
       "      <th>20</th>\n",
       "      <td>Москва \"Распродажа\"</td>\n",
       "      <td>20</td>\n",
       "    </tr>\n",
       "    <tr>\n",
       "      <th>21</th>\n",
       "      <td>Москва МТРЦ \"Афи Молл\"</td>\n",
       "      <td>21</td>\n",
       "    </tr>\n",
       "    <tr>\n",
       "      <th>22</th>\n",
       "      <td>Москва Магазин С21</td>\n",
       "      <td>22</td>\n",
       "    </tr>\n",
       "    <tr>\n",
       "      <th>23</th>\n",
       "      <td>Москва ТК \"Буденовский\" (пав.А2)</td>\n",
       "      <td>23</td>\n",
       "    </tr>\n",
       "    <tr>\n",
       "      <th>24</th>\n",
       "      <td>Москва ТК \"Буденовский\" (пав.К7)</td>\n",
       "      <td>24</td>\n",
       "    </tr>\n",
       "    <tr>\n",
       "      <th>25</th>\n",
       "      <td>Москва ТРК \"Атриум\"</td>\n",
       "      <td>25</td>\n",
       "    </tr>\n",
       "    <tr>\n",
       "      <th>26</th>\n",
       "      <td>Москва ТЦ \"Ареал\" (Беляево)</td>\n",
       "      <td>26</td>\n",
       "    </tr>\n",
       "    <tr>\n",
       "      <th>27</th>\n",
       "      <td>Москва ТЦ \"МЕГА Белая Дача II\"</td>\n",
       "      <td>27</td>\n",
       "    </tr>\n",
       "    <tr>\n",
       "      <th>28</th>\n",
       "      <td>Москва ТЦ \"МЕГА Теплый Стан\" II</td>\n",
       "      <td>28</td>\n",
       "    </tr>\n",
       "    <tr>\n",
       "      <th>29</th>\n",
       "      <td>Москва ТЦ \"Новый век\" (Новокосино)</td>\n",
       "      <td>29</td>\n",
       "    </tr>\n",
       "    <tr>\n",
       "      <th>30</th>\n",
       "      <td>Москва ТЦ \"Перловский\"</td>\n",
       "      <td>30</td>\n",
       "    </tr>\n",
       "    <tr>\n",
       "      <th>31</th>\n",
       "      <td>Москва ТЦ \"Семеновский\"</td>\n",
       "      <td>31</td>\n",
       "    </tr>\n",
       "    <tr>\n",
       "      <th>32</th>\n",
       "      <td>Москва ТЦ \"Серебряный Дом\"</td>\n",
       "      <td>32</td>\n",
       "    </tr>\n",
       "    <tr>\n",
       "      <th>33</th>\n",
       "      <td>Мытищи ТРК \"XL-3\"</td>\n",
       "      <td>33</td>\n",
       "    </tr>\n",
       "    <tr>\n",
       "      <th>34</th>\n",
       "      <td>Н.Новгород ТРЦ \"РИО\"</td>\n",
       "      <td>34</td>\n",
       "    </tr>\n",
       "    <tr>\n",
       "      <th>35</th>\n",
       "      <td>Н.Новгород ТРЦ \"Фантастика\"</td>\n",
       "      <td>35</td>\n",
       "    </tr>\n",
       "    <tr>\n",
       "      <th>36</th>\n",
       "      <td>Новосибирск ТРЦ \"Галерея Новосибирск\"</td>\n",
       "      <td>36</td>\n",
       "    </tr>\n",
       "    <tr>\n",
       "      <th>37</th>\n",
       "      <td>Новосибирск ТЦ \"Мега\"</td>\n",
       "      <td>37</td>\n",
       "    </tr>\n",
       "    <tr>\n",
       "      <th>38</th>\n",
       "      <td>Омск ТЦ \"Мега\"</td>\n",
       "      <td>38</td>\n",
       "    </tr>\n",
       "    <tr>\n",
       "      <th>39</th>\n",
       "      <td>РостовНаДону ТРК \"Мегацентр Горизонт\"</td>\n",
       "      <td>39</td>\n",
       "    </tr>\n",
       "    <tr>\n",
       "      <th>40</th>\n",
       "      <td>РостовНаДону ТРК \"Мегацентр Горизонт\" Островной</td>\n",
       "      <td>40</td>\n",
       "    </tr>\n",
       "    <tr>\n",
       "      <th>41</th>\n",
       "      <td>РостовНаДону ТЦ \"Мега\"</td>\n",
       "      <td>41</td>\n",
       "    </tr>\n",
       "    <tr>\n",
       "      <th>42</th>\n",
       "      <td>СПб ТК \"Невский Центр\"</td>\n",
       "      <td>42</td>\n",
       "    </tr>\n",
       "    <tr>\n",
       "      <th>43</th>\n",
       "      <td>СПб ТК \"Сенная\"</td>\n",
       "      <td>43</td>\n",
       "    </tr>\n",
       "    <tr>\n",
       "      <th>44</th>\n",
       "      <td>Самара ТЦ \"Мелодия\"</td>\n",
       "      <td>44</td>\n",
       "    </tr>\n",
       "    <tr>\n",
       "      <th>45</th>\n",
       "      <td>Самара ТЦ \"ПаркХаус\"</td>\n",
       "      <td>45</td>\n",
       "    </tr>\n",
       "    <tr>\n",
       "      <th>46</th>\n",
       "      <td>Сергиев Посад ТЦ \"7Я\"</td>\n",
       "      <td>46</td>\n",
       "    </tr>\n",
       "    <tr>\n",
       "      <th>47</th>\n",
       "      <td>Сургут ТРЦ \"Сити Молл\"</td>\n",
       "      <td>47</td>\n",
       "    </tr>\n",
       "    <tr>\n",
       "      <th>48</th>\n",
       "      <td>Томск ТРЦ \"Изумрудный Город\"</td>\n",
       "      <td>48</td>\n",
       "    </tr>\n",
       "    <tr>\n",
       "      <th>49</th>\n",
       "      <td>Тюмень ТРЦ \"Кристалл\"</td>\n",
       "      <td>49</td>\n",
       "    </tr>\n",
       "    <tr>\n",
       "      <th>50</th>\n",
       "      <td>Тюмень ТЦ \"Гудвин\"</td>\n",
       "      <td>50</td>\n",
       "    </tr>\n",
       "    <tr>\n",
       "      <th>51</th>\n",
       "      <td>Тюмень ТЦ \"Зеленый Берег\"</td>\n",
       "      <td>51</td>\n",
       "    </tr>\n",
       "    <tr>\n",
       "      <th>52</th>\n",
       "      <td>Уфа ТК \"Центральный\"</td>\n",
       "      <td>52</td>\n",
       "    </tr>\n",
       "    <tr>\n",
       "      <th>53</th>\n",
       "      <td>Уфа ТЦ \"Семья\" 2</td>\n",
       "      <td>53</td>\n",
       "    </tr>\n",
       "    <tr>\n",
       "      <th>54</th>\n",
       "      <td>Химки ТЦ \"Мега\"</td>\n",
       "      <td>54</td>\n",
       "    </tr>\n",
       "    <tr>\n",
       "      <th>55</th>\n",
       "      <td>Цифровой склад 1С-Онлайн</td>\n",
       "      <td>55</td>\n",
       "    </tr>\n",
       "    <tr>\n",
       "      <th>56</th>\n",
       "      <td>Чехов ТРЦ \"Карнавал\"</td>\n",
       "      <td>56</td>\n",
       "    </tr>\n",
       "    <tr>\n",
       "      <th>57</th>\n",
       "      <td>Якутск Орджоникидзе, 56</td>\n",
       "      <td>57</td>\n",
       "    </tr>\n",
       "    <tr>\n",
       "      <th>58</th>\n",
       "      <td>Якутск ТЦ \"Центральный\"</td>\n",
       "      <td>58</td>\n",
       "    </tr>\n",
       "    <tr>\n",
       "      <th>59</th>\n",
       "      <td>Ярославль ТЦ \"Альтаир\"</td>\n",
       "      <td>59</td>\n",
       "    </tr>\n",
       "  </tbody>\n",
       "</table>\n",
       "</div>"
      ],
      "text/plain": [
       "                                          shop_name  shop_id\n",
       "0                     !Якутск Орджоникидзе, 56 фран        0\n",
       "1                     !Якутск ТЦ \"Центральный\" фран        1\n",
       "2                                  Адыгея ТЦ \"Мега\"        2\n",
       "3                    Балашиха ТРК \"Октябрь-Киномир\"        3\n",
       "4                          Волжский ТЦ \"Волга Молл\"        4\n",
       "5                            Вологда ТРЦ \"Мармелад\"        5\n",
       "6                        Воронеж (Плехановская, 13)        6\n",
       "7                            Воронеж ТРЦ \"Максимир\"        7\n",
       "8                      Воронеж ТРЦ Сити-Парк \"Град\"        8\n",
       "9                                 Выездная Торговля        9\n",
       "10                       Жуковский ул. Чкалова 39м?       10\n",
       "11                       Жуковский ул. Чкалова 39м²       11\n",
       "12                              Интернет-магазин ЧС       12\n",
       "13                              Казань ТЦ \"Бехетле\"       13\n",
       "14                          Казань ТЦ \"ПаркХаус\" II       14\n",
       "15                             Калуга ТРЦ \"XXI век\"       15\n",
       "16                                 Коломна ТЦ \"Рио\"       16\n",
       "17                    Красноярск ТЦ \"Взлетка Плаза\"       17\n",
       "18                             Красноярск ТЦ \"Июнь\"       18\n",
       "19                            Курск ТЦ \"Пушкинский\"       19\n",
       "20                              Москва \"Распродажа\"       20\n",
       "21                           Москва МТРЦ \"Афи Молл\"       21\n",
       "22                               Москва Магазин С21       22\n",
       "23                 Москва ТК \"Буденовский\" (пав.А2)       23\n",
       "24                 Москва ТК \"Буденовский\" (пав.К7)       24\n",
       "25                              Москва ТРК \"Атриум\"       25\n",
       "26                      Москва ТЦ \"Ареал\" (Беляево)       26\n",
       "27                   Москва ТЦ \"МЕГА Белая Дача II\"       27\n",
       "28                  Москва ТЦ \"МЕГА Теплый Стан\" II       28\n",
       "29               Москва ТЦ \"Новый век\" (Новокосино)       29\n",
       "30                           Москва ТЦ \"Перловский\"       30\n",
       "31                          Москва ТЦ \"Семеновский\"       31\n",
       "32                       Москва ТЦ \"Серебряный Дом\"       32\n",
       "33                                Мытищи ТРК \"XL-3\"       33\n",
       "34                             Н.Новгород ТРЦ \"РИО\"       34\n",
       "35                      Н.Новгород ТРЦ \"Фантастика\"       35\n",
       "36            Новосибирск ТРЦ \"Галерея Новосибирск\"       36\n",
       "37                            Новосибирск ТЦ \"Мега\"       37\n",
       "38                                   Омск ТЦ \"Мега\"       38\n",
       "39            РостовНаДону ТРК \"Мегацентр Горизонт\"       39\n",
       "40  РостовНаДону ТРК \"Мегацентр Горизонт\" Островной       40\n",
       "41                           РостовНаДону ТЦ \"Мега\"       41\n",
       "42                           СПб ТК \"Невский Центр\"       42\n",
       "43                                  СПб ТК \"Сенная\"       43\n",
       "44                              Самара ТЦ \"Мелодия\"       44\n",
       "45                             Самара ТЦ \"ПаркХаус\"       45\n",
       "46                            Сергиев Посад ТЦ \"7Я\"       46\n",
       "47                           Сургут ТРЦ \"Сити Молл\"       47\n",
       "48                     Томск ТРЦ \"Изумрудный Город\"       48\n",
       "49                            Тюмень ТРЦ \"Кристалл\"       49\n",
       "50                               Тюмень ТЦ \"Гудвин\"       50\n",
       "51                        Тюмень ТЦ \"Зеленый Берег\"       51\n",
       "52                             Уфа ТК \"Центральный\"       52\n",
       "53                                 Уфа ТЦ \"Семья\" 2       53\n",
       "54                                  Химки ТЦ \"Мега\"       54\n",
       "55                         Цифровой склад 1С-Онлайн       55\n",
       "56                             Чехов ТРЦ \"Карнавал\"       56\n",
       "57                          Якутск Орджоникидзе, 56       57\n",
       "58                          Якутск ТЦ \"Центральный\"       58\n",
       "59                           Ярославль ТЦ \"Альтаир\"       59"
      ]
     },
     "execution_count": 8,
     "metadata": {},
     "output_type": "execute_result"
    }
   ],
   "source": [
    "print(shops.shape)\n",
    "print(shops.nunique())\n",
    "shops.head(60)\n",
    "# Some shops duplicates"
   ]
  },
  {
   "cell_type": "code",
   "execution_count": 9,
   "metadata": {
    "ExecuteTime": {
     "end_time": "2020-08-21T21:10:13.834153Z",
     "start_time": "2020-08-21T21:10:13.812748Z"
    }
   },
   "outputs": [
    {
     "data": {
      "text/html": [
       "<div>\n",
       "<style scoped>\n",
       "    .dataframe tbody tr th:only-of-type {\n",
       "        vertical-align: middle;\n",
       "    }\n",
       "\n",
       "    .dataframe tbody tr th {\n",
       "        vertical-align: top;\n",
       "    }\n",
       "\n",
       "    .dataframe thead th {\n",
       "        text-align: right;\n",
       "    }\n",
       "</style>\n",
       "<table border=\"1\" class=\"dataframe\">\n",
       "  <thead>\n",
       "    <tr style=\"text-align: right;\">\n",
       "      <th></th>\n",
       "      <th>shop_id</th>\n",
       "      <th>city_code</th>\n",
       "    </tr>\n",
       "  </thead>\n",
       "  <tbody>\n",
       "    <tr>\n",
       "      <th>0</th>\n",
       "      <td>0</td>\n",
       "      <td>29</td>\n",
       "    </tr>\n",
       "    <tr>\n",
       "      <th>1</th>\n",
       "      <td>1</td>\n",
       "      <td>29</td>\n",
       "    </tr>\n",
       "    <tr>\n",
       "      <th>2</th>\n",
       "      <td>2</td>\n",
       "      <td>0</td>\n",
       "    </tr>\n",
       "    <tr>\n",
       "      <th>3</th>\n",
       "      <td>3</td>\n",
       "      <td>1</td>\n",
       "    </tr>\n",
       "    <tr>\n",
       "      <th>4</th>\n",
       "      <td>4</td>\n",
       "      <td>2</td>\n",
       "    </tr>\n",
       "  </tbody>\n",
       "</table>\n",
       "</div>"
      ],
      "text/plain": [
       "   shop_id  city_code\n",
       "0        0         29\n",
       "1        1         29\n",
       "2        2          0\n",
       "3        3          1\n",
       "4        4          2"
      ]
     },
     "execution_count": 9,
     "metadata": {},
     "output_type": "execute_result"
    }
   ],
   "source": [
    "# Shops start with city name apparently (stolen from kaggle)\n",
    "shops.loc[shops.shop_name == 'Сергиев Посад ТЦ \"7Я\"', 'shop_name'] = 'СергиевПосад ТЦ \"7Я\"'\n",
    "shops['city'] = shops['shop_name'].str.split(' ').map(lambda x: x[0])\n",
    "shops.loc[shops.city == '!Якутск', 'city'] = 'Якутск'\n",
    "shops['city_code'] = LabelEncoder().fit_transform(shops['city'])\n",
    "shops = shops[['shop_id','city_code']]\n",
    "shops.head()"
   ]
  },
  {
   "cell_type": "code",
   "execution_count": 10,
   "metadata": {
    "ExecuteTime": {
     "end_time": "2020-08-21T21:10:13.862500Z",
     "start_time": "2020-08-21T21:10:13.836449Z"
    }
   },
   "outputs": [
    {
     "name": "stdout",
     "output_type": "stream",
     "text": [
      "(84, 2)\n"
     ]
    },
    {
     "data": {
      "text/html": [
       "<div>\n",
       "<style scoped>\n",
       "    .dataframe tbody tr th:only-of-type {\n",
       "        vertical-align: middle;\n",
       "    }\n",
       "\n",
       "    .dataframe tbody tr th {\n",
       "        vertical-align: top;\n",
       "    }\n",
       "\n",
       "    .dataframe thead th {\n",
       "        text-align: right;\n",
       "    }\n",
       "</style>\n",
       "<table border=\"1\" class=\"dataframe\">\n",
       "  <thead>\n",
       "    <tr style=\"text-align: right;\">\n",
       "      <th></th>\n",
       "      <th>item_category_name</th>\n",
       "      <th>item_category_id</th>\n",
       "    </tr>\n",
       "  </thead>\n",
       "  <tbody>\n",
       "    <tr>\n",
       "      <th>0</th>\n",
       "      <td>PC - Гарнитуры/Наушники</td>\n",
       "      <td>0</td>\n",
       "    </tr>\n",
       "    <tr>\n",
       "      <th>1</th>\n",
       "      <td>Аксессуары - PS2</td>\n",
       "      <td>1</td>\n",
       "    </tr>\n",
       "    <tr>\n",
       "      <th>2</th>\n",
       "      <td>Аксессуары - PS3</td>\n",
       "      <td>2</td>\n",
       "    </tr>\n",
       "    <tr>\n",
       "      <th>3</th>\n",
       "      <td>Аксессуары - PS4</td>\n",
       "      <td>3</td>\n",
       "    </tr>\n",
       "    <tr>\n",
       "      <th>4</th>\n",
       "      <td>Аксессуары - PSP</td>\n",
       "      <td>4</td>\n",
       "    </tr>\n",
       "    <tr>\n",
       "      <th>5</th>\n",
       "      <td>Аксессуары - PSVita</td>\n",
       "      <td>5</td>\n",
       "    </tr>\n",
       "    <tr>\n",
       "      <th>6</th>\n",
       "      <td>Аксессуары - XBOX 360</td>\n",
       "      <td>6</td>\n",
       "    </tr>\n",
       "    <tr>\n",
       "      <th>7</th>\n",
       "      <td>Аксессуары - XBOX ONE</td>\n",
       "      <td>7</td>\n",
       "    </tr>\n",
       "    <tr>\n",
       "      <th>8</th>\n",
       "      <td>Билеты (Цифра)</td>\n",
       "      <td>8</td>\n",
       "    </tr>\n",
       "    <tr>\n",
       "      <th>9</th>\n",
       "      <td>Доставка товара</td>\n",
       "      <td>9</td>\n",
       "    </tr>\n",
       "    <tr>\n",
       "      <th>10</th>\n",
       "      <td>Игровые консоли - PS2</td>\n",
       "      <td>10</td>\n",
       "    </tr>\n",
       "    <tr>\n",
       "      <th>11</th>\n",
       "      <td>Игровые консоли - PS3</td>\n",
       "      <td>11</td>\n",
       "    </tr>\n",
       "    <tr>\n",
       "      <th>12</th>\n",
       "      <td>Игровые консоли - PS4</td>\n",
       "      <td>12</td>\n",
       "    </tr>\n",
       "    <tr>\n",
       "      <th>13</th>\n",
       "      <td>Игровые консоли - PSP</td>\n",
       "      <td>13</td>\n",
       "    </tr>\n",
       "    <tr>\n",
       "      <th>14</th>\n",
       "      <td>Игровые консоли - PSVita</td>\n",
       "      <td>14</td>\n",
       "    </tr>\n",
       "    <tr>\n",
       "      <th>15</th>\n",
       "      <td>Игровые консоли - XBOX 360</td>\n",
       "      <td>15</td>\n",
       "    </tr>\n",
       "    <tr>\n",
       "      <th>16</th>\n",
       "      <td>Игровые консоли - XBOX ONE</td>\n",
       "      <td>16</td>\n",
       "    </tr>\n",
       "    <tr>\n",
       "      <th>17</th>\n",
       "      <td>Игровые консоли - Прочие</td>\n",
       "      <td>17</td>\n",
       "    </tr>\n",
       "    <tr>\n",
       "      <th>18</th>\n",
       "      <td>Игры - PS2</td>\n",
       "      <td>18</td>\n",
       "    </tr>\n",
       "    <tr>\n",
       "      <th>19</th>\n",
       "      <td>Игры - PS3</td>\n",
       "      <td>19</td>\n",
       "    </tr>\n",
       "  </tbody>\n",
       "</table>\n",
       "</div>"
      ],
      "text/plain": [
       "            item_category_name  item_category_id\n",
       "0      PC - Гарнитуры/Наушники                 0\n",
       "1             Аксессуары - PS2                 1\n",
       "2             Аксессуары - PS3                 2\n",
       "3             Аксессуары - PS4                 3\n",
       "4             Аксессуары - PSP                 4\n",
       "5          Аксессуары - PSVita                 5\n",
       "6        Аксессуары - XBOX 360                 6\n",
       "7        Аксессуары - XBOX ONE                 7\n",
       "8               Билеты (Цифра)                 8\n",
       "9              Доставка товара                 9\n",
       "10       Игровые консоли - PS2                10\n",
       "11       Игровые консоли - PS3                11\n",
       "12       Игровые консоли - PS4                12\n",
       "13       Игровые консоли - PSP                13\n",
       "14    Игровые консоли - PSVita                14\n",
       "15  Игровые консоли - XBOX 360                15\n",
       "16  Игровые консоли - XBOX ONE                16\n",
       "17    Игровые консоли - Прочие                17\n",
       "18                  Игры - PS2                18\n",
       "19                  Игры - PS3                19"
      ]
     },
     "execution_count": 10,
     "metadata": {},
     "output_type": "execute_result"
    }
   ],
   "source": [
    "print(item_categories.shape)\n",
    "item_categories.head(20)"
   ]
  },
  {
   "cell_type": "code",
   "execution_count": 11,
   "metadata": {
    "ExecuteTime": {
     "end_time": "2020-08-21T21:10:13.903064Z",
     "start_time": "2020-08-21T21:10:13.864191Z"
    }
   },
   "outputs": [
    {
     "data": {
      "text/html": [
       "<div>\n",
       "<style scoped>\n",
       "    .dataframe tbody tr th:only-of-type {\n",
       "        vertical-align: middle;\n",
       "    }\n",
       "\n",
       "    .dataframe tbody tr th {\n",
       "        vertical-align: top;\n",
       "    }\n",
       "\n",
       "    .dataframe thead th {\n",
       "        text-align: right;\n",
       "    }\n",
       "</style>\n",
       "<table border=\"1\" class=\"dataframe\">\n",
       "  <thead>\n",
       "    <tr style=\"text-align: right;\">\n",
       "      <th></th>\n",
       "      <th>item_category_id</th>\n",
       "      <th>type_code</th>\n",
       "      <th>subtype_code</th>\n",
       "    </tr>\n",
       "  </thead>\n",
       "  <tbody>\n",
       "    <tr>\n",
       "      <th>0</th>\n",
       "      <td>0</td>\n",
       "      <td>0</td>\n",
       "      <td>29</td>\n",
       "    </tr>\n",
       "    <tr>\n",
       "      <th>1</th>\n",
       "      <td>1</td>\n",
       "      <td>1</td>\n",
       "      <td>9</td>\n",
       "    </tr>\n",
       "    <tr>\n",
       "      <th>2</th>\n",
       "      <td>2</td>\n",
       "      <td>1</td>\n",
       "      <td>10</td>\n",
       "    </tr>\n",
       "    <tr>\n",
       "      <th>3</th>\n",
       "      <td>3</td>\n",
       "      <td>1</td>\n",
       "      <td>11</td>\n",
       "    </tr>\n",
       "    <tr>\n",
       "      <th>4</th>\n",
       "      <td>4</td>\n",
       "      <td>1</td>\n",
       "      <td>13</td>\n",
       "    </tr>\n",
       "  </tbody>\n",
       "</table>\n",
       "</div>"
      ],
      "text/plain": [
       "   item_category_id  type_code  subtype_code\n",
       "0                 0          0            29\n",
       "1                 1          1             9\n",
       "2                 2          1            10\n",
       "3                 3          1            11\n",
       "4                 4          1            13"
      ]
     },
     "execution_count": 11,
     "metadata": {},
     "output_type": "execute_result"
    }
   ],
   "source": [
    "# Categories clearly split in two parts\n",
    "# From Kaggle:\n",
    "item_categories['split'] = item_categories['item_category_name'].str.split('-')\n",
    "item_categories['type'] = item_categories['split'].map(lambda x: x[0].strip())\n",
    "item_categories['type_code'] = LabelEncoder().fit_transform(item_categories['type'])\n",
    "# if subtype is nan then type\n",
    "item_categories['subtype'] = item_categories['split'].map(lambda x: x[1].strip() if len(x) > 1 else x[0].strip())\n",
    "item_categories['subtype_code'] = LabelEncoder().fit_transform(item_categories['subtype'])\n",
    "item_categories = item_categories[['item_category_id','type_code', 'subtype_code']]\n",
    "item_categories.head()"
   ]
  },
  {
   "cell_type": "code",
   "execution_count": 12,
   "metadata": {
    "ExecuteTime": {
     "end_time": "2020-08-21T21:10:13.932370Z",
     "start_time": "2020-08-21T21:10:13.904902Z"
    }
   },
   "outputs": [
    {
     "name": "stdout",
     "output_type": "stream",
     "text": [
      "(214200, 3)\n",
      "ID         214200\n",
      "shop_id        42\n",
      "item_id      5100\n",
      "dtype: int64\n"
     ]
    },
    {
     "data": {
      "text/html": [
       "<div>\n",
       "<style scoped>\n",
       "    .dataframe tbody tr th:only-of-type {\n",
       "        vertical-align: middle;\n",
       "    }\n",
       "\n",
       "    .dataframe tbody tr th {\n",
       "        vertical-align: top;\n",
       "    }\n",
       "\n",
       "    .dataframe thead th {\n",
       "        text-align: right;\n",
       "    }\n",
       "</style>\n",
       "<table border=\"1\" class=\"dataframe\">\n",
       "  <thead>\n",
       "    <tr style=\"text-align: right;\">\n",
       "      <th></th>\n",
       "      <th>ID</th>\n",
       "      <th>shop_id</th>\n",
       "      <th>item_id</th>\n",
       "    </tr>\n",
       "  </thead>\n",
       "  <tbody>\n",
       "    <tr>\n",
       "      <th>0</th>\n",
       "      <td>0</td>\n",
       "      <td>5</td>\n",
       "      <td>5037</td>\n",
       "    </tr>\n",
       "    <tr>\n",
       "      <th>1</th>\n",
       "      <td>1</td>\n",
       "      <td>5</td>\n",
       "      <td>5320</td>\n",
       "    </tr>\n",
       "    <tr>\n",
       "      <th>2</th>\n",
       "      <td>2</td>\n",
       "      <td>5</td>\n",
       "      <td>5233</td>\n",
       "    </tr>\n",
       "    <tr>\n",
       "      <th>3</th>\n",
       "      <td>3</td>\n",
       "      <td>5</td>\n",
       "      <td>5232</td>\n",
       "    </tr>\n",
       "    <tr>\n",
       "      <th>4</th>\n",
       "      <td>4</td>\n",
       "      <td>5</td>\n",
       "      <td>5268</td>\n",
       "    </tr>\n",
       "  </tbody>\n",
       "</table>\n",
       "</div>"
      ],
      "text/plain": [
       "   ID  shop_id  item_id\n",
       "0   0        5     5037\n",
       "1   1        5     5320\n",
       "2   2        5     5233\n",
       "3   3        5     5232\n",
       "4   4        5     5268"
      ]
     },
     "execution_count": 12,
     "metadata": {},
     "output_type": "execute_result"
    }
   ],
   "source": [
    "print(test_transactions.shape)\n",
    "print(test_transactions.nunique())\n",
    "test_transactions.head()"
   ]
  },
  {
   "cell_type": "code",
   "execution_count": 13,
   "metadata": {
    "ExecuteTime": {
     "end_time": "2020-08-21T21:10:14.007070Z",
     "start_time": "2020-08-21T21:10:13.934241Z"
    }
   },
   "outputs": [],
   "source": [
    "# Remove shop duplicates\n",
    "# Якутск Орджоникидзе, 56\n",
    "transactions.loc[transactions.shop_id == 0, 'shop_id'] = 57\n",
    "test_transactions.loc[test_transactions.shop_id == 0, 'shop_id'] = 57\n",
    "# Якутск ТЦ \"Центральный\"\n",
    "transactions.loc[transactions.shop_id == 1, 'shop_id'] = 58\n",
    "test_transactions.loc[test_transactions.shop_id == 1, 'shop_id'] = 58\n",
    "# Жуковский ул. Чкалова 39м²\n",
    "transactions.loc[transactions.shop_id == 10, 'shop_id'] = 11\n",
    "test_transactions.loc[test_transactions.shop_id == 10, 'shop_id'] = 11"
   ]
  },
  {
   "cell_type": "code",
   "execution_count": 14,
   "metadata": {
    "ExecuteTime": {
     "end_time": "2020-08-21T21:10:25.573545Z",
     "start_time": "2020-08-21T21:10:14.009127Z"
    }
   },
   "outputs": [],
   "source": [
    "from itertools import product\n",
    "\n",
    "# Make for all month all possible combinations of shop_id, item_id which are in the transactions of that month\n",
    "months = []\n",
    "for i in range(34):\n",
    "    month = transactions[transactions.date_block_num==i]\n",
    "    months.append(np.array(list(product([i], month[\"shop_id\"].unique(), month[\"item_id\"].unique()))))\n",
    "shop_item_df = pd.DataFrame(np.vstack(months), columns=[\"date_block_num\", \"shop_id\", \"item_id\"])"
   ]
  },
  {
   "cell_type": "code",
   "execution_count": 15,
   "metadata": {
    "ExecuteTime": {
     "end_time": "2020-08-21T21:10:25.581915Z",
     "start_time": "2020-08-21T21:10:25.575311Z"
    }
   },
   "outputs": [
    {
     "data": {
      "text/html": [
       "<div>\n",
       "<style scoped>\n",
       "    .dataframe tbody tr th:only-of-type {\n",
       "        vertical-align: middle;\n",
       "    }\n",
       "\n",
       "    .dataframe tbody tr th {\n",
       "        vertical-align: top;\n",
       "    }\n",
       "\n",
       "    .dataframe thead th {\n",
       "        text-align: right;\n",
       "    }\n",
       "</style>\n",
       "<table border=\"1\" class=\"dataframe\">\n",
       "  <thead>\n",
       "    <tr style=\"text-align: right;\">\n",
       "      <th></th>\n",
       "      <th>date_block_num</th>\n",
       "      <th>shop_id</th>\n",
       "      <th>item_id</th>\n",
       "    </tr>\n",
       "  </thead>\n",
       "  <tbody>\n",
       "    <tr>\n",
       "      <th>0</th>\n",
       "      <td>0</td>\n",
       "      <td>59</td>\n",
       "      <td>22154</td>\n",
       "    </tr>\n",
       "    <tr>\n",
       "      <th>1</th>\n",
       "      <td>0</td>\n",
       "      <td>59</td>\n",
       "      <td>2552</td>\n",
       "    </tr>\n",
       "    <tr>\n",
       "      <th>2</th>\n",
       "      <td>0</td>\n",
       "      <td>59</td>\n",
       "      <td>2554</td>\n",
       "    </tr>\n",
       "    <tr>\n",
       "      <th>3</th>\n",
       "      <td>0</td>\n",
       "      <td>59</td>\n",
       "      <td>2555</td>\n",
       "    </tr>\n",
       "    <tr>\n",
       "      <th>4</th>\n",
       "      <td>0</td>\n",
       "      <td>59</td>\n",
       "      <td>2564</td>\n",
       "    </tr>\n",
       "  </tbody>\n",
       "</table>\n",
       "</div>"
      ],
      "text/plain": [
       "   date_block_num  shop_id  item_id\n",
       "0               0       59    22154\n",
       "1               0       59     2552\n",
       "2               0       59     2554\n",
       "3               0       59     2555\n",
       "4               0       59     2564"
      ]
     },
     "execution_count": 15,
     "metadata": {},
     "output_type": "execute_result"
    }
   ],
   "source": [
    "shop_item_df.head()"
   ]
  },
  {
   "cell_type": "code",
   "execution_count": 16,
   "metadata": {
    "ExecuteTime": {
     "end_time": "2020-08-21T21:10:26.184957Z",
     "start_time": "2020-08-21T21:10:25.583378Z"
    }
   },
   "outputs": [
    {
     "data": {
      "text/html": [
       "<div>\n",
       "<style scoped>\n",
       "    .dataframe tbody tr th:only-of-type {\n",
       "        vertical-align: middle;\n",
       "    }\n",
       "\n",
       "    .dataframe tbody tr th {\n",
       "        vertical-align: top;\n",
       "    }\n",
       "\n",
       "    .dataframe thead th {\n",
       "        text-align: right;\n",
       "    }\n",
       "</style>\n",
       "<table border=\"1\" class=\"dataframe\">\n",
       "  <thead>\n",
       "    <tr style=\"text-align: right;\">\n",
       "      <th></th>\n",
       "      <th>date_block_num</th>\n",
       "      <th>shop_id</th>\n",
       "      <th>item_id</th>\n",
       "      <th>item_cnt_month</th>\n",
       "    </tr>\n",
       "  </thead>\n",
       "  <tbody>\n",
       "    <tr>\n",
       "      <th>0</th>\n",
       "      <td>0</td>\n",
       "      <td>2</td>\n",
       "      <td>27</td>\n",
       "      <td>1.0</td>\n",
       "    </tr>\n",
       "    <tr>\n",
       "      <th>1</th>\n",
       "      <td>0</td>\n",
       "      <td>2</td>\n",
       "      <td>33</td>\n",
       "      <td>1.0</td>\n",
       "    </tr>\n",
       "    <tr>\n",
       "      <th>2</th>\n",
       "      <td>0</td>\n",
       "      <td>2</td>\n",
       "      <td>317</td>\n",
       "      <td>1.0</td>\n",
       "    </tr>\n",
       "    <tr>\n",
       "      <th>3</th>\n",
       "      <td>0</td>\n",
       "      <td>2</td>\n",
       "      <td>438</td>\n",
       "      <td>1.0</td>\n",
       "    </tr>\n",
       "    <tr>\n",
       "      <th>4</th>\n",
       "      <td>0</td>\n",
       "      <td>2</td>\n",
       "      <td>471</td>\n",
       "      <td>2.0</td>\n",
       "    </tr>\n",
       "  </tbody>\n",
       "</table>\n",
       "</div>"
      ],
      "text/plain": [
       "   date_block_num  shop_id  item_id  item_cnt_month\n",
       "0               0        2       27             1.0\n",
       "1               0        2       33             1.0\n",
       "2               0        2      317             1.0\n",
       "3               0        2      438             1.0\n",
       "4               0        2      471             2.0"
      ]
     },
     "execution_count": 16,
     "metadata": {},
     "output_type": "execute_result"
    }
   ],
   "source": [
    "# Aggregate monthly cnt for each item, shop\n",
    "agg = transactions.groupby([\"date_block_num\", \"shop_id\", \"item_id\"])[\"item_cnt_day\"].sum()\n",
    "agg = agg.reset_index()\n",
    "agg.rename(columns={\"item_cnt_day\":\"item_cnt_month\"}, inplace=True)\n",
    "agg.head()\n"
   ]
  },
  {
   "cell_type": "code",
   "execution_count": 17,
   "metadata": {
    "ExecuteTime": {
     "end_time": "2020-08-21T21:10:29.362450Z",
     "start_time": "2020-08-21T21:10:26.186481Z"
    }
   },
   "outputs": [
    {
     "data": {
      "text/html": [
       "<div>\n",
       "<style scoped>\n",
       "    .dataframe tbody tr th:only-of-type {\n",
       "        vertical-align: middle;\n",
       "    }\n",
       "\n",
       "    .dataframe tbody tr th {\n",
       "        vertical-align: top;\n",
       "    }\n",
       "\n",
       "    .dataframe thead th {\n",
       "        text-align: right;\n",
       "    }\n",
       "</style>\n",
       "<table border=\"1\" class=\"dataframe\">\n",
       "  <thead>\n",
       "    <tr style=\"text-align: right;\">\n",
       "      <th></th>\n",
       "      <th>date_block_num</th>\n",
       "      <th>shop_id</th>\n",
       "      <th>item_id</th>\n",
       "      <th>item_cnt_month</th>\n",
       "    </tr>\n",
       "  </thead>\n",
       "  <tbody>\n",
       "    <tr>\n",
       "      <th>0</th>\n",
       "      <td>0</td>\n",
       "      <td>59</td>\n",
       "      <td>22154</td>\n",
       "      <td>1.0</td>\n",
       "    </tr>\n",
       "    <tr>\n",
       "      <th>1</th>\n",
       "      <td>0</td>\n",
       "      <td>59</td>\n",
       "      <td>2552</td>\n",
       "      <td>0.0</td>\n",
       "    </tr>\n",
       "    <tr>\n",
       "      <th>2</th>\n",
       "      <td>0</td>\n",
       "      <td>59</td>\n",
       "      <td>2554</td>\n",
       "      <td>0.0</td>\n",
       "    </tr>\n",
       "    <tr>\n",
       "      <th>3</th>\n",
       "      <td>0</td>\n",
       "      <td>59</td>\n",
       "      <td>2555</td>\n",
       "      <td>0.0</td>\n",
       "    </tr>\n",
       "    <tr>\n",
       "      <th>4</th>\n",
       "      <td>0</td>\n",
       "      <td>59</td>\n",
       "      <td>2564</td>\n",
       "      <td>0.0</td>\n",
       "    </tr>\n",
       "  </tbody>\n",
       "</table>\n",
       "</div>"
      ],
      "text/plain": [
       "   date_block_num  shop_id  item_id  item_cnt_month\n",
       "0               0       59    22154             1.0\n",
       "1               0       59     2552             0.0\n",
       "2               0       59     2554             0.0\n",
       "3               0       59     2555             0.0\n",
       "4               0       59     2564             0.0"
      ]
     },
     "execution_count": 17,
     "metadata": {},
     "output_type": "execute_result"
    }
   ],
   "source": [
    "# Join on created df with shop/item combinations\n",
    "train = shop_item_df.merge(agg, on=[\"date_block_num\", \"shop_id\", \"item_id\"], how='left')\n",
    "\n",
    "# Fill NaN with 0 (Assumption: in store, but not sold) and clip to target range \n",
    "train.item_cnt_month = train.item_cnt_month.fillna(0).clip(0,20)\n",
    "train.head()"
   ]
  },
  {
   "cell_type": "code",
   "execution_count": 18,
   "metadata": {
    "ExecuteTime": {
     "end_time": "2020-08-21T21:10:33.255739Z",
     "start_time": "2020-08-21T21:10:29.364098Z"
    }
   },
   "outputs": [
    {
     "data": {
      "text/html": [
       "<div>\n",
       "<style scoped>\n",
       "    .dataframe tbody tr th:only-of-type {\n",
       "        vertical-align: middle;\n",
       "    }\n",
       "\n",
       "    .dataframe tbody tr th {\n",
       "        vertical-align: top;\n",
       "    }\n",
       "\n",
       "    .dataframe thead th {\n",
       "        text-align: right;\n",
       "    }\n",
       "</style>\n",
       "<table border=\"1\" class=\"dataframe\">\n",
       "  <thead>\n",
       "    <tr style=\"text-align: right;\">\n",
       "      <th></th>\n",
       "      <th>date_block_num</th>\n",
       "      <th>shop_id</th>\n",
       "      <th>item_id</th>\n",
       "      <th>item_cnt_month</th>\n",
       "      <th>item_name</th>\n",
       "      <th>item_category_id</th>\n",
       "      <th>type_code</th>\n",
       "      <th>subtype_code</th>\n",
       "      <th>city_code</th>\n",
       "    </tr>\n",
       "  </thead>\n",
       "  <tbody>\n",
       "    <tr>\n",
       "      <th>0</th>\n",
       "      <td>0</td>\n",
       "      <td>59</td>\n",
       "      <td>22154</td>\n",
       "      <td>1.0</td>\n",
       "      <td>ЯВЛЕНИЕ 2012 (BD)</td>\n",
       "      <td>37</td>\n",
       "      <td>11</td>\n",
       "      <td>1</td>\n",
       "      <td>30</td>\n",
       "    </tr>\n",
       "    <tr>\n",
       "      <th>1</th>\n",
       "      <td>0</td>\n",
       "      <td>59</td>\n",
       "      <td>2552</td>\n",
       "      <td>0.0</td>\n",
       "      <td>DEEP PURPLE  The House Of Blue Light  LP</td>\n",
       "      <td>58</td>\n",
       "      <td>13</td>\n",
       "      <td>27</td>\n",
       "      <td>30</td>\n",
       "    </tr>\n",
       "    <tr>\n",
       "      <th>2</th>\n",
       "      <td>0</td>\n",
       "      <td>59</td>\n",
       "      <td>2554</td>\n",
       "      <td>0.0</td>\n",
       "      <td>DEEP PURPLE  Who Do You Think We Are  LP</td>\n",
       "      <td>58</td>\n",
       "      <td>13</td>\n",
       "      <td>27</td>\n",
       "      <td>30</td>\n",
       "    </tr>\n",
       "    <tr>\n",
       "      <th>3</th>\n",
       "      <td>0</td>\n",
       "      <td>59</td>\n",
       "      <td>2555</td>\n",
       "      <td>0.0</td>\n",
       "      <td>DEEP PURPLE 30 Very Best Of 2CD (Фирм.)</td>\n",
       "      <td>56</td>\n",
       "      <td>13</td>\n",
       "      <td>3</td>\n",
       "      <td>30</td>\n",
       "    </tr>\n",
       "    <tr>\n",
       "      <th>4</th>\n",
       "      <td>0</td>\n",
       "      <td>59</td>\n",
       "      <td>2564</td>\n",
       "      <td>0.0</td>\n",
       "      <td>DEEP PURPLE Perihelion: Live In Concert DVD (К...</td>\n",
       "      <td>59</td>\n",
       "      <td>13</td>\n",
       "      <td>40</td>\n",
       "      <td>30</td>\n",
       "    </tr>\n",
       "  </tbody>\n",
       "</table>\n",
       "</div>"
      ],
      "text/plain": [
       "   date_block_num  shop_id  item_id  item_cnt_month  \\\n",
       "0               0       59    22154             1.0   \n",
       "1               0       59     2552             0.0   \n",
       "2               0       59     2554             0.0   \n",
       "3               0       59     2555             0.0   \n",
       "4               0       59     2564             0.0   \n",
       "\n",
       "                                           item_name  item_category_id  \\\n",
       "0                                  ЯВЛЕНИЕ 2012 (BD)                37   \n",
       "1           DEEP PURPLE  The House Of Blue Light  LP                58   \n",
       "2           DEEP PURPLE  Who Do You Think We Are  LP                58   \n",
       "3            DEEP PURPLE 30 Very Best Of 2CD (Фирм.)                56   \n",
       "4  DEEP PURPLE Perihelion: Live In Concert DVD (К...                59   \n",
       "\n",
       "   type_code  subtype_code  city_code  \n",
       "0         11             1         30  \n",
       "1         13            27         30  \n",
       "2         13            27         30  \n",
       "3         13             3         30  \n",
       "4         13            40         30  "
      ]
     },
     "execution_count": 18,
     "metadata": {},
     "output_type": "execute_result"
    }
   ],
   "source": [
    "# Combine df with items, item_categories and shops\n",
    "train = train.merge(items, on=\"item_id\", how='left')\n",
    "train = train.merge(item_categories, on=\"item_category_id\", how='left')\n",
    "train = train.merge(shops, on=\"shop_id\", how='left')\n",
    "train.head()"
   ]
  },
  {
   "cell_type": "code",
   "execution_count": 19,
   "metadata": {
    "ExecuteTime": {
     "end_time": "2020-08-21T21:10:33.380769Z",
     "start_time": "2020-08-21T21:10:33.257332Z"
    }
   },
   "outputs": [
    {
     "data": {
      "text/html": [
       "<div>\n",
       "<style scoped>\n",
       "    .dataframe tbody tr th:only-of-type {\n",
       "        vertical-align: middle;\n",
       "    }\n",
       "\n",
       "    .dataframe tbody tr th {\n",
       "        vertical-align: top;\n",
       "    }\n",
       "\n",
       "    .dataframe thead th {\n",
       "        text-align: right;\n",
       "    }\n",
       "</style>\n",
       "<table border=\"1\" class=\"dataframe\">\n",
       "  <thead>\n",
       "    <tr style=\"text-align: right;\">\n",
       "      <th></th>\n",
       "      <th>ID</th>\n",
       "      <th>shop_id</th>\n",
       "      <th>item_id</th>\n",
       "      <th>item_name</th>\n",
       "      <th>item_category_id</th>\n",
       "      <th>type_code</th>\n",
       "      <th>subtype_code</th>\n",
       "      <th>city_code</th>\n",
       "    </tr>\n",
       "  </thead>\n",
       "  <tbody>\n",
       "    <tr>\n",
       "      <th>0</th>\n",
       "      <td>0</td>\n",
       "      <td>5</td>\n",
       "      <td>5037</td>\n",
       "      <td>NHL 15 [PS3, русские субтитры]</td>\n",
       "      <td>19</td>\n",
       "      <td>5</td>\n",
       "      <td>10</td>\n",
       "      <td>3</td>\n",
       "    </tr>\n",
       "    <tr>\n",
       "      <th>1</th>\n",
       "      <td>1</td>\n",
       "      <td>5</td>\n",
       "      <td>5320</td>\n",
       "      <td>ONE DIRECTION  Made In The A.M.</td>\n",
       "      <td>55</td>\n",
       "      <td>13</td>\n",
       "      <td>2</td>\n",
       "      <td>3</td>\n",
       "    </tr>\n",
       "    <tr>\n",
       "      <th>2</th>\n",
       "      <td>2</td>\n",
       "      <td>5</td>\n",
       "      <td>5233</td>\n",
       "      <td>Need for Speed Rivals (Essentials) [PS3, русск...</td>\n",
       "      <td>19</td>\n",
       "      <td>5</td>\n",
       "      <td>10</td>\n",
       "      <td>3</td>\n",
       "    </tr>\n",
       "    <tr>\n",
       "      <th>3</th>\n",
       "      <td>3</td>\n",
       "      <td>5</td>\n",
       "      <td>5232</td>\n",
       "      <td>Need for Speed Rivals (Classics) [Xbox 360, ру...</td>\n",
       "      <td>23</td>\n",
       "      <td>5</td>\n",
       "      <td>16</td>\n",
       "      <td>3</td>\n",
       "    </tr>\n",
       "    <tr>\n",
       "      <th>4</th>\n",
       "      <td>4</td>\n",
       "      <td>5</td>\n",
       "      <td>5268</td>\n",
       "      <td>Need for Speed [PS4, русская версия]</td>\n",
       "      <td>20</td>\n",
       "      <td>5</td>\n",
       "      <td>11</td>\n",
       "      <td>3</td>\n",
       "    </tr>\n",
       "  </tbody>\n",
       "</table>\n",
       "</div>"
      ],
      "text/plain": [
       "   ID  shop_id  item_id                                          item_name  \\\n",
       "0   0        5     5037                     NHL 15 [PS3, русские субтитры]   \n",
       "1   1        5     5320                    ONE DIRECTION  Made In The A.M.   \n",
       "2   2        5     5233  Need for Speed Rivals (Essentials) [PS3, русск...   \n",
       "3   3        5     5232  Need for Speed Rivals (Classics) [Xbox 360, ру...   \n",
       "4   4        5     5268               Need for Speed [PS4, русская версия]   \n",
       "\n",
       "   item_category_id  type_code  subtype_code  city_code  \n",
       "0                19          5            10          3  \n",
       "1                55         13             2          3  \n",
       "2                19          5            10          3  \n",
       "3                23          5            16          3  \n",
       "4                20          5            11          3  "
      ]
     },
     "execution_count": 19,
     "metadata": {},
     "output_type": "execute_result"
    }
   ],
   "source": [
    "# Do the same for test\n",
    "test_transactions = test_transactions.merge(items, on=\"item_id\", how='left')\n",
    "test_transactions = test_transactions.merge(item_categories, on=\"item_category_id\", how='left')\n",
    "test_transactions = test_transactions.merge(shops, on=\"shop_id\", how='left')\n",
    "test_transactions.head()"
   ]
  },
  {
   "cell_type": "code",
   "execution_count": 20,
   "metadata": {
    "ExecuteTime": {
     "end_time": "2020-08-21T21:10:33.391206Z",
     "start_time": "2020-08-21T21:10:33.384560Z"
    }
   },
   "outputs": [],
   "source": [
    "def lag_feature(df, lags, col):\n",
    "    tmp = df[['date_block_num','shop_id','item_id',col]]\n",
    "    for i in lags:\n",
    "        shifted = tmp.copy()\n",
    "        shifted.columns = ['date_block_num','shop_id','item_id', col+'_lag_'+str(i)]\n",
    "        shifted['date_block_num'] += i\n",
    "        df = df.merge(shifted, on=['date_block_num','shop_id','item_id'], how='left')\n",
    "    return df"
   ]
  },
  {
   "cell_type": "code",
   "execution_count": 21,
   "metadata": {
    "ExecuteTime": {
     "end_time": "2020-08-21T21:11:08.495677Z",
     "start_time": "2020-08-21T21:10:33.392703Z"
    }
   },
   "outputs": [
    {
     "name": "stdout",
     "output_type": "stream",
     "text": [
      "Memory used by data frame: 933.90 MB.\n",
      "Memory used after optimization: 255.49 MB.\n",
      "Memory usage reduced by 72.6%.\n"
     ]
    }
   ],
   "source": [
    "test_transactions[\"date_block_num\"] = 34\n",
    "train_test = pd.concat([train, test_transactions])\n",
    "train_test = reduce_mem_usage(train_test)\n",
    "train_test = lag_feature(train_test, [1,2,3,4,6,12], \"item_cnt_month\")\n"
   ]
  },
  {
   "cell_type": "code",
   "execution_count": 22,
   "metadata": {
    "ExecuteTime": {
     "end_time": "2020-08-21T21:11:09.055078Z",
     "start_time": "2020-08-21T21:11:08.497560Z"
    }
   },
   "outputs": [
    {
     "name": "stdout",
     "output_type": "stream",
     "text": [
      "date_block_num                  0\n",
      "shop_id                         0\n",
      "item_id                         0\n",
      "item_cnt_month             214200\n",
      "item_name                       0\n",
      "item_category_id                0\n",
      "type_code                       0\n",
      "subtype_code                    0\n",
      "city_code                       0\n",
      "ID                       10913850\n",
      "item_cnt_month_lag_1      2498907\n",
      "item_cnt_month_lag_2      3138839\n",
      "item_cnt_month_lag_3      3748967\n",
      "item_cnt_month_lag_4      4327122\n",
      "item_cnt_month_lag_6      5385789\n",
      "item_cnt_month_lag_12     7988508\n",
      "dtype: int64\n"
     ]
    },
    {
     "data": {
      "text/html": [
       "<div>\n",
       "<style scoped>\n",
       "    .dataframe tbody tr th:only-of-type {\n",
       "        vertical-align: middle;\n",
       "    }\n",
       "\n",
       "    .dataframe tbody tr th {\n",
       "        vertical-align: top;\n",
       "    }\n",
       "\n",
       "    .dataframe thead th {\n",
       "        text-align: right;\n",
       "    }\n",
       "</style>\n",
       "<table border=\"1\" class=\"dataframe\">\n",
       "  <thead>\n",
       "    <tr style=\"text-align: right;\">\n",
       "      <th></th>\n",
       "      <th>date_block_num</th>\n",
       "      <th>shop_id</th>\n",
       "      <th>item_id</th>\n",
       "      <th>item_cnt_month</th>\n",
       "      <th>item_name</th>\n",
       "      <th>item_category_id</th>\n",
       "      <th>type_code</th>\n",
       "      <th>subtype_code</th>\n",
       "      <th>city_code</th>\n",
       "      <th>ID</th>\n",
       "      <th>item_cnt_month_lag_1</th>\n",
       "      <th>item_cnt_month_lag_2</th>\n",
       "      <th>item_cnt_month_lag_3</th>\n",
       "      <th>item_cnt_month_lag_4</th>\n",
       "      <th>item_cnt_month_lag_6</th>\n",
       "      <th>item_cnt_month_lag_12</th>\n",
       "    </tr>\n",
       "  </thead>\n",
       "  <tbody>\n",
       "    <tr>\n",
       "      <th>0</th>\n",
       "      <td>0</td>\n",
       "      <td>59</td>\n",
       "      <td>22154</td>\n",
       "      <td>1.0</td>\n",
       "      <td>ЯВЛЕНИЕ 2012 (BD)</td>\n",
       "      <td>37</td>\n",
       "      <td>11</td>\n",
       "      <td>1</td>\n",
       "      <td>30</td>\n",
       "      <td>NaN</td>\n",
       "      <td>NaN</td>\n",
       "      <td>NaN</td>\n",
       "      <td>NaN</td>\n",
       "      <td>NaN</td>\n",
       "      <td>NaN</td>\n",
       "      <td>NaN</td>\n",
       "    </tr>\n",
       "    <tr>\n",
       "      <th>1</th>\n",
       "      <td>0</td>\n",
       "      <td>59</td>\n",
       "      <td>2552</td>\n",
       "      <td>0.0</td>\n",
       "      <td>DEEP PURPLE  The House Of Blue Light  LP</td>\n",
       "      <td>58</td>\n",
       "      <td>13</td>\n",
       "      <td>27</td>\n",
       "      <td>30</td>\n",
       "      <td>NaN</td>\n",
       "      <td>NaN</td>\n",
       "      <td>NaN</td>\n",
       "      <td>NaN</td>\n",
       "      <td>NaN</td>\n",
       "      <td>NaN</td>\n",
       "      <td>NaN</td>\n",
       "    </tr>\n",
       "    <tr>\n",
       "      <th>2</th>\n",
       "      <td>0</td>\n",
       "      <td>59</td>\n",
       "      <td>2554</td>\n",
       "      <td>0.0</td>\n",
       "      <td>DEEP PURPLE  Who Do You Think We Are  LP</td>\n",
       "      <td>58</td>\n",
       "      <td>13</td>\n",
       "      <td>27</td>\n",
       "      <td>30</td>\n",
       "      <td>NaN</td>\n",
       "      <td>NaN</td>\n",
       "      <td>NaN</td>\n",
       "      <td>NaN</td>\n",
       "      <td>NaN</td>\n",
       "      <td>NaN</td>\n",
       "      <td>NaN</td>\n",
       "    </tr>\n",
       "    <tr>\n",
       "      <th>3</th>\n",
       "      <td>0</td>\n",
       "      <td>59</td>\n",
       "      <td>2555</td>\n",
       "      <td>0.0</td>\n",
       "      <td>DEEP PURPLE 30 Very Best Of 2CD (Фирм.)</td>\n",
       "      <td>56</td>\n",
       "      <td>13</td>\n",
       "      <td>3</td>\n",
       "      <td>30</td>\n",
       "      <td>NaN</td>\n",
       "      <td>NaN</td>\n",
       "      <td>NaN</td>\n",
       "      <td>NaN</td>\n",
       "      <td>NaN</td>\n",
       "      <td>NaN</td>\n",
       "      <td>NaN</td>\n",
       "    </tr>\n",
       "    <tr>\n",
       "      <th>4</th>\n",
       "      <td>0</td>\n",
       "      <td>59</td>\n",
       "      <td>2564</td>\n",
       "      <td>0.0</td>\n",
       "      <td>DEEP PURPLE Perihelion: Live In Concert DVD (К...</td>\n",
       "      <td>59</td>\n",
       "      <td>13</td>\n",
       "      <td>40</td>\n",
       "      <td>30</td>\n",
       "      <td>NaN</td>\n",
       "      <td>NaN</td>\n",
       "      <td>NaN</td>\n",
       "      <td>NaN</td>\n",
       "      <td>NaN</td>\n",
       "      <td>NaN</td>\n",
       "      <td>NaN</td>\n",
       "    </tr>\n",
       "  </tbody>\n",
       "</table>\n",
       "</div>"
      ],
      "text/plain": [
       "   date_block_num  shop_id  item_id  item_cnt_month  \\\n",
       "0               0       59    22154             1.0   \n",
       "1               0       59     2552             0.0   \n",
       "2               0       59     2554             0.0   \n",
       "3               0       59     2555             0.0   \n",
       "4               0       59     2564             0.0   \n",
       "\n",
       "                                           item_name  item_category_id  \\\n",
       "0                                  ЯВЛЕНИЕ 2012 (BD)                37   \n",
       "1           DEEP PURPLE  The House Of Blue Light  LP                58   \n",
       "2           DEEP PURPLE  Who Do You Think We Are  LP                58   \n",
       "3            DEEP PURPLE 30 Very Best Of 2CD (Фирм.)                56   \n",
       "4  DEEP PURPLE Perihelion: Live In Concert DVD (К...                59   \n",
       "\n",
       "   type_code  subtype_code  city_code  ID  item_cnt_month_lag_1  \\\n",
       "0         11             1         30 NaN                   NaN   \n",
       "1         13            27         30 NaN                   NaN   \n",
       "2         13            27         30 NaN                   NaN   \n",
       "3         13             3         30 NaN                   NaN   \n",
       "4         13            40         30 NaN                   NaN   \n",
       "\n",
       "   item_cnt_month_lag_2  item_cnt_month_lag_3  item_cnt_month_lag_4  \\\n",
       "0                   NaN                   NaN                   NaN   \n",
       "1                   NaN                   NaN                   NaN   \n",
       "2                   NaN                   NaN                   NaN   \n",
       "3                   NaN                   NaN                   NaN   \n",
       "4                   NaN                   NaN                   NaN   \n",
       "\n",
       "   item_cnt_month_lag_6  item_cnt_month_lag_12  \n",
       "0                   NaN                    NaN  \n",
       "1                   NaN                    NaN  \n",
       "2                   NaN                    NaN  \n",
       "3                   NaN                    NaN  \n",
       "4                   NaN                    NaN  "
      ]
     },
     "execution_count": 22,
     "metadata": {},
     "output_type": "execute_result"
    }
   ],
   "source": [
    "print(train_test.isnull().sum())\n",
    "train_test.head()"
   ]
  },
  {
   "cell_type": "code",
   "execution_count": 23,
   "metadata": {
    "ExecuteTime": {
     "end_time": "2020-08-21T21:11:09.483483Z",
     "start_time": "2020-08-21T21:11:09.058826Z"
    }
   },
   "outputs": [],
   "source": [
    "#train_test.drop(\"ID\", axis=1, inplace=True)\n",
    "for i in [1,2,3,4,6,12]:\n",
    "    train_test[\"item_cnt_month\"+'_lag_'+str(i)].fillna(-999.0, inplace=True)\n"
   ]
  },
  {
   "cell_type": "code",
   "execution_count": 24,
   "metadata": {
    "ExecuteTime": {
     "end_time": "2020-08-21T21:11:09.545004Z",
     "start_time": "2020-08-21T21:11:09.486826Z"
    }
   },
   "outputs": [],
   "source": [
    "# Add month columns\n",
    "train_test[\"month\"] = train_test[\"date_block_num\"]%12"
   ]
  },
  {
   "cell_type": "markdown",
   "metadata": {},
   "source": [
    "### Holidays in Russia as feature"
   ]
  },
  {
   "cell_type": "code",
   "execution_count": 25,
   "metadata": {
    "ExecuteTime": {
     "end_time": "2020-08-21T21:11:13.044061Z",
     "start_time": "2020-08-21T21:11:09.547064Z"
    }
   },
   "outputs": [
    {
     "data": {
      "text/html": [
       "<div>\n",
       "<style scoped>\n",
       "    .dataframe tbody tr th:only-of-type {\n",
       "        vertical-align: middle;\n",
       "    }\n",
       "\n",
       "    .dataframe tbody tr th {\n",
       "        vertical-align: top;\n",
       "    }\n",
       "\n",
       "    .dataframe thead th {\n",
       "        text-align: right;\n",
       "    }\n",
       "</style>\n",
       "<table border=\"1\" class=\"dataframe\">\n",
       "  <thead>\n",
       "    <tr style=\"text-align: right;\">\n",
       "      <th></th>\n",
       "      <th>date_block_num</th>\n",
       "      <th>shop_id</th>\n",
       "      <th>item_id</th>\n",
       "      <th>item_cnt_month</th>\n",
       "      <th>item_name</th>\n",
       "      <th>item_category_id</th>\n",
       "      <th>type_code</th>\n",
       "      <th>subtype_code</th>\n",
       "      <th>city_code</th>\n",
       "      <th>ID</th>\n",
       "      <th>item_cnt_month_lag_1</th>\n",
       "      <th>item_cnt_month_lag_2</th>\n",
       "      <th>item_cnt_month_lag_3</th>\n",
       "      <th>item_cnt_month_lag_4</th>\n",
       "      <th>item_cnt_month_lag_6</th>\n",
       "      <th>item_cnt_month_lag_12</th>\n",
       "      <th>month</th>\n",
       "      <th>holidays</th>\n",
       "    </tr>\n",
       "  </thead>\n",
       "  <tbody>\n",
       "    <tr>\n",
       "      <th>0</th>\n",
       "      <td>0</td>\n",
       "      <td>59</td>\n",
       "      <td>22154</td>\n",
       "      <td>1.0</td>\n",
       "      <td>ЯВЛЕНИЕ 2012 (BD)</td>\n",
       "      <td>37</td>\n",
       "      <td>11</td>\n",
       "      <td>1</td>\n",
       "      <td>30</td>\n",
       "      <td>NaN</td>\n",
       "      <td>-999.0</td>\n",
       "      <td>-999.0</td>\n",
       "      <td>-999.0</td>\n",
       "      <td>-999.0</td>\n",
       "      <td>-999.0</td>\n",
       "      <td>-999.0</td>\n",
       "      <td>0</td>\n",
       "      <td>6</td>\n",
       "    </tr>\n",
       "    <tr>\n",
       "      <th>1</th>\n",
       "      <td>0</td>\n",
       "      <td>59</td>\n",
       "      <td>2552</td>\n",
       "      <td>0.0</td>\n",
       "      <td>DEEP PURPLE  The House Of Blue Light  LP</td>\n",
       "      <td>58</td>\n",
       "      <td>13</td>\n",
       "      <td>27</td>\n",
       "      <td>30</td>\n",
       "      <td>NaN</td>\n",
       "      <td>-999.0</td>\n",
       "      <td>-999.0</td>\n",
       "      <td>-999.0</td>\n",
       "      <td>-999.0</td>\n",
       "      <td>-999.0</td>\n",
       "      <td>-999.0</td>\n",
       "      <td>0</td>\n",
       "      <td>6</td>\n",
       "    </tr>\n",
       "  </tbody>\n",
       "</table>\n",
       "</div>"
      ],
      "text/plain": [
       "   date_block_num  shop_id  item_id  item_cnt_month  \\\n",
       "0               0       59    22154             1.0   \n",
       "1               0       59     2552             0.0   \n",
       "\n",
       "                                  item_name  item_category_id  type_code  \\\n",
       "0                         ЯВЛЕНИЕ 2012 (BD)                37         11   \n",
       "1  DEEP PURPLE  The House Of Blue Light  LP                58         13   \n",
       "\n",
       "   subtype_code  city_code  ID  item_cnt_month_lag_1  item_cnt_month_lag_2  \\\n",
       "0             1         30 NaN                -999.0                -999.0   \n",
       "1            27         30 NaN                -999.0                -999.0   \n",
       "\n",
       "   item_cnt_month_lag_3  item_cnt_month_lag_4  item_cnt_month_lag_6  \\\n",
       "0                -999.0                -999.0                -999.0   \n",
       "1                -999.0                -999.0                -999.0   \n",
       "\n",
       "   item_cnt_month_lag_12  month  holidays  \n",
       "0                 -999.0      0         6  \n",
       "1                 -999.0      0         6  "
      ]
     },
     "execution_count": 25,
     "metadata": {},
     "output_type": "execute_result"
    }
   ],
   "source": [
    "holidays = {1:6, 2:2, 3:1,4:0, 5:5, 6:1, 7:1,8:0,9:0,10:0, 11:2,12:0}\n",
    "train_test[\"holidays\"] = train_test[\"month\"].apply(lambda x: holidays[x+1])\n",
    "train_test.head(2)"
   ]
  },
  {
   "cell_type": "markdown",
   "metadata": {
    "heading_collapsed": true
   },
   "source": [
    "### Try to add price feature"
   ]
  },
  {
   "cell_type": "code",
   "execution_count": 26,
   "metadata": {
    "ExecuteTime": {
     "end_time": "2020-08-21T21:11:13.466894Z",
     "start_time": "2020-08-21T21:11:13.045823Z"
    },
    "hidden": true
   },
   "outputs": [
    {
     "data": {
      "text/html": [
       "<div>\n",
       "<style scoped>\n",
       "    .dataframe tbody tr th:only-of-type {\n",
       "        vertical-align: middle;\n",
       "    }\n",
       "\n",
       "    .dataframe tbody tr th {\n",
       "        vertical-align: top;\n",
       "    }\n",
       "\n",
       "    .dataframe thead th {\n",
       "        text-align: right;\n",
       "    }\n",
       "</style>\n",
       "<table border=\"1\" class=\"dataframe\">\n",
       "  <thead>\n",
       "    <tr style=\"text-align: right;\">\n",
       "      <th></th>\n",
       "      <th>date</th>\n",
       "      <th>date_block_num</th>\n",
       "      <th>shop_id</th>\n",
       "      <th>item_id</th>\n",
       "      <th>item_price</th>\n",
       "      <th>item_cnt_day</th>\n",
       "      <th>item_name</th>\n",
       "      <th>item_category_id</th>\n",
       "    </tr>\n",
       "  </thead>\n",
       "  <tbody>\n",
       "    <tr>\n",
       "      <th>0</th>\n",
       "      <td>02.01.2013</td>\n",
       "      <td>0</td>\n",
       "      <td>59</td>\n",
       "      <td>22154</td>\n",
       "      <td>999.00</td>\n",
       "      <td>1.0</td>\n",
       "      <td>ЯВЛЕНИЕ 2012 (BD)</td>\n",
       "      <td>37</td>\n",
       "    </tr>\n",
       "    <tr>\n",
       "      <th>1</th>\n",
       "      <td>03.01.2013</td>\n",
       "      <td>0</td>\n",
       "      <td>25</td>\n",
       "      <td>2552</td>\n",
       "      <td>899.00</td>\n",
       "      <td>1.0</td>\n",
       "      <td>DEEP PURPLE  The House Of Blue Light  LP</td>\n",
       "      <td>58</td>\n",
       "    </tr>\n",
       "    <tr>\n",
       "      <th>2</th>\n",
       "      <td>05.01.2013</td>\n",
       "      <td>0</td>\n",
       "      <td>25</td>\n",
       "      <td>2552</td>\n",
       "      <td>899.00</td>\n",
       "      <td>-1.0</td>\n",
       "      <td>DEEP PURPLE  The House Of Blue Light  LP</td>\n",
       "      <td>58</td>\n",
       "    </tr>\n",
       "    <tr>\n",
       "      <th>3</th>\n",
       "      <td>06.01.2013</td>\n",
       "      <td>0</td>\n",
       "      <td>25</td>\n",
       "      <td>2554</td>\n",
       "      <td>1709.05</td>\n",
       "      <td>1.0</td>\n",
       "      <td>DEEP PURPLE  Who Do You Think We Are  LP</td>\n",
       "      <td>58</td>\n",
       "    </tr>\n",
       "    <tr>\n",
       "      <th>4</th>\n",
       "      <td>15.01.2013</td>\n",
       "      <td>0</td>\n",
       "      <td>25</td>\n",
       "      <td>2555</td>\n",
       "      <td>1099.00</td>\n",
       "      <td>1.0</td>\n",
       "      <td>DEEP PURPLE 30 Very Best Of 2CD (Фирм.)</td>\n",
       "      <td>56</td>\n",
       "    </tr>\n",
       "  </tbody>\n",
       "</table>\n",
       "</div>"
      ],
      "text/plain": [
       "         date  date_block_num  shop_id  item_id  item_price  item_cnt_day  \\\n",
       "0  02.01.2013               0       59    22154      999.00           1.0   \n",
       "1  03.01.2013               0       25     2552      899.00           1.0   \n",
       "2  05.01.2013               0       25     2552      899.00          -1.0   \n",
       "3  06.01.2013               0       25     2554     1709.05           1.0   \n",
       "4  15.01.2013               0       25     2555     1099.00           1.0   \n",
       "\n",
       "                                  item_name  item_category_id  \n",
       "0                         ЯВЛЕНИЕ 2012 (BD)                37  \n",
       "1  DEEP PURPLE  The House Of Blue Light  LP                58  \n",
       "2  DEEP PURPLE  The House Of Blue Light  LP                58  \n",
       "3  DEEP PURPLE  Who Do You Think We Are  LP                58  \n",
       "4   DEEP PURPLE 30 Very Best Of 2CD (Фирм.)                56  "
      ]
     },
     "execution_count": 26,
     "metadata": {},
     "output_type": "execute_result"
    }
   ],
   "source": [
    "# Predict the price depending on item, shop, month and category\n",
    "train_price = transactions.merge(items, on=\"item_id\", how='left')\n",
    "train_price.head()"
   ]
  },
  {
   "cell_type": "code",
   "execution_count": 27,
   "metadata": {
    "ExecuteTime": {
     "end_time": "2020-08-21T21:11:14.009300Z",
     "start_time": "2020-08-21T21:11:13.468495Z"
    },
    "hidden": true
   },
   "outputs": [
    {
     "data": {
      "text/plain": [
       "<matplotlib.axes._subplots.AxesSubplot at 0x7fd212d71280>"
      ]
     },
     "execution_count": 27,
     "metadata": {},
     "output_type": "execute_result"
    },
    {
     "data": {
      "image/png": "[encoded data removed]",
      "text/plain": [
       "<Figure size 432x288 with 1 Axes>"
      ]
     },
     "metadata": {
      "needs_background": "light"
     },
     "output_type": "display_data"
    }
   ],
   "source": [
    "train_price.boxplot(\"item_price\")"
   ]
  },
  {
   "cell_type": "code",
   "execution_count": 28,
   "metadata": {
    "ExecuteTime": {
     "end_time": "2020-08-21T21:11:14.220747Z",
     "start_time": "2020-08-21T21:11:14.011253Z"
    },
    "hidden": true
   },
   "outputs": [],
   "source": [
    "train_price[\"month\"] = train_price[\"date_block_num\"]%12 \n",
    "val_price = train_price[train_price.date_block_num>=32]\n",
    "train_price = train_price[train_price.date_block_num<32]\n",
    "features_price = [\"date_block_num\", \"shop_id\", \"item_id\", \"item_category_id\", \"month\"]\n",
    "label = [\"item_price\"]"
   ]
  },
  {
   "cell_type": "code",
   "execution_count": 29,
   "metadata": {
    "ExecuteTime": {
     "end_time": "2020-08-21T21:11:14.468721Z",
     "start_time": "2020-08-21T21:11:14.222551Z"
    },
    "hidden": true
   },
   "outputs": [
    {
     "name": "stdout",
     "output_type": "stream",
     "text": [
      "(2831747, 9)\n",
      "(104102, 9)\n",
      "date                0\n",
      "date_block_num      0\n",
      "shop_id             0\n",
      "item_id             0\n",
      "item_price          0\n",
      "item_cnt_day        0\n",
      "item_name           0\n",
      "item_category_id    0\n",
      "month               0\n",
      "dtype: int64\n"
     ]
    },
    {
     "data": {
      "text/html": [
       "<div>\n",
       "<style scoped>\n",
       "    .dataframe tbody tr th:only-of-type {\n",
       "        vertical-align: middle;\n",
       "    }\n",
       "\n",
       "    .dataframe tbody tr th {\n",
       "        vertical-align: top;\n",
       "    }\n",
       "\n",
       "    .dataframe thead th {\n",
       "        text-align: right;\n",
       "    }\n",
       "</style>\n",
       "<table border=\"1\" class=\"dataframe\">\n",
       "  <thead>\n",
       "    <tr style=\"text-align: right;\">\n",
       "      <th></th>\n",
       "      <th>date</th>\n",
       "      <th>date_block_num</th>\n",
       "      <th>shop_id</th>\n",
       "      <th>item_id</th>\n",
       "      <th>item_price</th>\n",
       "      <th>item_cnt_day</th>\n",
       "      <th>item_name</th>\n",
       "      <th>item_category_id</th>\n",
       "      <th>month</th>\n",
       "    </tr>\n",
       "  </thead>\n",
       "  <tbody>\n",
       "    <tr>\n",
       "      <th>0</th>\n",
       "      <td>02.01.2013</td>\n",
       "      <td>0</td>\n",
       "      <td>59</td>\n",
       "      <td>22154</td>\n",
       "      <td>999.00</td>\n",
       "      <td>1.0</td>\n",
       "      <td>ЯВЛЕНИЕ 2012 (BD)</td>\n",
       "      <td>37</td>\n",
       "      <td>0</td>\n",
       "    </tr>\n",
       "    <tr>\n",
       "      <th>1</th>\n",
       "      <td>03.01.2013</td>\n",
       "      <td>0</td>\n",
       "      <td>25</td>\n",
       "      <td>2552</td>\n",
       "      <td>899.00</td>\n",
       "      <td>1.0</td>\n",
       "      <td>DEEP PURPLE  The House Of Blue Light  LP</td>\n",
       "      <td>58</td>\n",
       "      <td>0</td>\n",
       "    </tr>\n",
       "    <tr>\n",
       "      <th>2</th>\n",
       "      <td>05.01.2013</td>\n",
       "      <td>0</td>\n",
       "      <td>25</td>\n",
       "      <td>2552</td>\n",
       "      <td>899.00</td>\n",
       "      <td>-1.0</td>\n",
       "      <td>DEEP PURPLE  The House Of Blue Light  LP</td>\n",
       "      <td>58</td>\n",
       "      <td>0</td>\n",
       "    </tr>\n",
       "    <tr>\n",
       "      <th>3</th>\n",
       "      <td>06.01.2013</td>\n",
       "      <td>0</td>\n",
       "      <td>25</td>\n",
       "      <td>2554</td>\n",
       "      <td>1709.05</td>\n",
       "      <td>1.0</td>\n",
       "      <td>DEEP PURPLE  Who Do You Think We Are  LP</td>\n",
       "      <td>58</td>\n",
       "      <td>0</td>\n",
       "    </tr>\n",
       "    <tr>\n",
       "      <th>4</th>\n",
       "      <td>15.01.2013</td>\n",
       "      <td>0</td>\n",
       "      <td>25</td>\n",
       "      <td>2555</td>\n",
       "      <td>1099.00</td>\n",
       "      <td>1.0</td>\n",
       "      <td>DEEP PURPLE 30 Very Best Of 2CD (Фирм.)</td>\n",
       "      <td>56</td>\n",
       "      <td>0</td>\n",
       "    </tr>\n",
       "  </tbody>\n",
       "</table>\n",
       "</div>"
      ],
      "text/plain": [
       "         date  date_block_num  shop_id  item_id  item_price  item_cnt_day  \\\n",
       "0  02.01.2013               0       59    22154      999.00           1.0   \n",
       "1  03.01.2013               0       25     2552      899.00           1.0   \n",
       "2  05.01.2013               0       25     2552      899.00          -1.0   \n",
       "3  06.01.2013               0       25     2554     1709.05           1.0   \n",
       "4  15.01.2013               0       25     2555     1099.00           1.0   \n",
       "\n",
       "                                  item_name  item_category_id  month  \n",
       "0                         ЯВЛЕНИЕ 2012 (BD)                37      0  \n",
       "1  DEEP PURPLE  The House Of Blue Light  LP                58      0  \n",
       "2  DEEP PURPLE  The House Of Blue Light  LP                58      0  \n",
       "3  DEEP PURPLE  Who Do You Think We Are  LP                58      0  \n",
       "4   DEEP PURPLE 30 Very Best Of 2CD (Фирм.)                56      0  "
      ]
     },
     "execution_count": 29,
     "metadata": {},
     "output_type": "execute_result"
    }
   ],
   "source": [
    "print(train_price.shape)\n",
    "print(val_price.shape)\n",
    "print(train_price.isnull().sum())\n",
    "train_price.head()\n"
   ]
  },
  {
   "cell_type": "code",
   "execution_count": 30,
   "metadata": {
    "ExecuteTime": {
     "end_time": "2020-08-21T21:11:14.474683Z",
     "start_time": "2020-08-21T21:11:14.470911Z"
    },
    "hidden": true
   },
   "outputs": [],
   "source": [
    "# %%time\n",
    "# X = train_price[features_price]\n",
    "# Y = train_price[label]\n",
    "# X_val = val_price[features_price]\n",
    "# Y_val = val_price[label]\n",
    "# # hyper_params = {\n",
    "# #     'task': 'train',\n",
    "# #     'boosting_type': 'gbdt',\n",
    "# #     'objective': 'regression',\n",
    "# #     'metric': ['l2'],\n",
    "# #     'learning_rate': 0.1,\n",
    "# #     'feature_fraction': 0.9,\n",
    "# #     'bagging_fraction': 0.7,\n",
    "# #     'bagging_freq': 10,\n",
    "# #     'verbose': 0,\n",
    "# #     \"max_depth\": 8,\n",
    "# #     \"num_leaves\": 128,  \n",
    "# #     \"max_bin\": 512,\n",
    "# #     \n",
    "# #     \"n_estimators\": 30\n",
    "# # }\n",
    "# hyper_params = {\"n_estimators\":100,\n",
    "#                \"num_iterations\": 500,}\n",
    "# gbm = lgb.LGBMRegressor(**hyper_params)\n",
    "# gbm.fit(X, Y,\n",
    "#         eval_set=[(X_val, Y_val)],\n",
    "#         eval_metric='l1',\n",
    "#         early_stopping_rounds=100)"
   ]
  },
  {
   "cell_type": "code",
   "execution_count": 31,
   "metadata": {
    "ExecuteTime": {
     "end_time": "2020-08-21T21:11:14.496684Z",
     "start_time": "2020-08-21T21:11:14.476510Z"
    },
    "hidden": true
   },
   "outputs": [],
   "source": [
    "#train_test[\"item_price\"] = gbm.predict(train_test[features_price])"
   ]
  },
  {
   "cell_type": "code",
   "execution_count": 32,
   "metadata": {
    "ExecuteTime": {
     "end_time": "2020-08-21T21:11:14.513985Z",
     "start_time": "2020-08-21T21:11:14.498568Z"
    },
    "hidden": true
   },
   "outputs": [],
   "source": [
    "# print(train_test.isnull().sum())\n",
    "# print(train_test.shape)\n",
    "# train_test.head()"
   ]
  },
  {
   "cell_type": "markdown",
   "metadata": {},
   "source": [
    "### Add day per month as feature"
   ]
  },
  {
   "cell_type": "code",
   "execution_count": 33,
   "metadata": {
    "ExecuteTime": {
     "end_time": "2020-08-21T21:11:18.083295Z",
     "start_time": "2020-08-21T21:11:14.515857Z"
    }
   },
   "outputs": [],
   "source": [
    "day_per_month = {1:31, 2:28, 3:31,4:30,5:31,6:30,7:31,8:31,9:30,10:31,11:30,12:31}\n",
    "train_test[\"days_in_month\"] = train_test[\"month\"].apply(lambda x: day_per_month[x+1])\n"
   ]
  },
  {
   "cell_type": "markdown",
   "metadata": {
    "ExecuteTime": {
     "end_time": "2020-08-20T08:40:52.907755Z",
     "start_time": "2020-08-20T08:40:52.889374Z"
    }
   },
   "source": [
    "### Add running average Items"
   ]
  },
  {
   "cell_type": "code",
   "execution_count": 34,
   "metadata": {
    "ExecuteTime": {
     "end_time": "2020-08-21T21:11:18.918607Z",
     "start_time": "2020-08-21T21:11:18.085045Z"
    }
   },
   "outputs": [],
   "source": [
    "# Add mean sell for item\n",
    "# Mean sell for item only made performance worse\n",
    "# New idea: Average over time\n",
    "train_test[\"avg_last_3\"] = (train_test[\"item_cnt_month_lag_1\"] + train_test[\"item_cnt_month_lag_2\"] \\\n",
    "                            + train_test[\"item_cnt_month_lag_3\"])/3 \n",
    "train_test[\"avg_last_3\"] = train_test[\"avg_last_3\"].clip(0,20) "
   ]
  },
  {
   "cell_type": "markdown",
   "metadata": {},
   "source": [
    "### Add average item sell lag"
   ]
  },
  {
   "cell_type": "code",
   "execution_count": 35,
   "metadata": {
    "ExecuteTime": {
     "end_time": "2020-08-21T21:11:19.882775Z",
     "start_time": "2020-08-21T21:11:18.920345Z"
    }
   },
   "outputs": [],
   "source": [
    "# Add mean lag sell per item\n",
    "train_test[\"item_avg_lag\"] = train_test.groupby(\"item_id\")[\"item_cnt_month_lag_1\"].transform(\"mean\")\n",
    "train_test[\"item_avg_lag_2\"] = train_test.groupby(\"item_id\")[\"item_cnt_month_lag_2\"].transform(\"mean\")\n",
    "train_test[\"item_avg_lag_3\"] = train_test.groupby(\"item_id\")[\"item_cnt_month_lag_3\"].transform(\"mean\")\n"
   ]
  },
  {
   "cell_type": "markdown",
   "metadata": {},
   "source": [
    "### Add average shop sell lag"
   ]
  },
  {
   "cell_type": "code",
   "execution_count": 36,
   "metadata": {
    "ExecuteTime": {
     "end_time": "2020-08-21T21:11:20.607239Z",
     "start_time": "2020-08-21T21:11:19.884446Z"
    }
   },
   "outputs": [],
   "source": [
    "train_test[\"shop_avg_lag\"] = train_test.groupby(\"shop_id\")[\"item_cnt_month_lag_1\"].transform(\"mean\")\n",
    "train_test[\"shop_avg_lag_2\"] = train_test.groupby(\"shop_id\")[\"item_cnt_month_lag_2\"].transform(\"mean\")\n",
    "train_test[\"shop_avg_lag_3\"] = train_test.groupby(\"shop_id\")[\"item_cnt_month_lag_3\"].transform(\"mean\")"
   ]
  },
  {
   "cell_type": "markdown",
   "metadata": {},
   "source": [
    "### Add average for month for item as lags"
   ]
  },
  {
   "cell_type": "code",
   "execution_count": 37,
   "metadata": {
    "ExecuteTime": {
     "end_time": "2020-08-21T21:11:22.434438Z",
     "start_time": "2020-08-21T21:11:20.608957Z"
    }
   },
   "outputs": [],
   "source": [
    "train_test['date_item_avg_item_cnt_lag_1'] = train_test.groupby(['date_block_num', 'item_id'])['item_cnt_month_lag_1'].transform(\"mean\")\n",
    "train_test['date_item_avg_item_cnt_lag_2'] = train_test.groupby(['date_block_num', 'item_id'])['item_cnt_month_lag_2'].transform(\"mean\")\n",
    "train_test['date_item_avg_item_cnt_lag_3'] = train_test.groupby(['date_block_num', 'item_id'])['item_cnt_month_lag_3'].transform(\"mean\")\n"
   ]
  },
  {
   "cell_type": "code",
   "execution_count": 38,
   "metadata": {
    "ExecuteTime": {
     "end_time": "2020-08-21T21:11:23.085940Z",
     "start_time": "2020-08-21T21:11:22.436185Z"
    }
   },
   "outputs": [],
   "source": [
    "train_test[\"date_item_max_cnt_lag_1\"] = train_test.groupby(['date_block_num', 'item_id'])[\"item_cnt_month_lag_1\"].transform(\"max\")\n"
   ]
  },
  {
   "cell_type": "markdown",
   "metadata": {},
   "source": [
    "### Add running average shop items"
   ]
  },
  {
   "cell_type": "code",
   "execution_count": 39,
   "metadata": {
    "ExecuteTime": {
     "end_time": "2020-08-21T21:11:23.333298Z",
     "start_time": "2020-08-21T21:11:23.087338Z"
    }
   },
   "outputs": [],
   "source": [
    "train_test[\"avg_last_3_shop\"] = train_test.groupby(\"shop_id\")[\"avg_last_3\"].transform(\"mean\")"
   ]
  },
  {
   "cell_type": "markdown",
   "metadata": {},
   "source": [
    "### Split into train, val test"
   ]
  },
  {
   "cell_type": "code",
   "execution_count": 40,
   "metadata": {
    "ExecuteTime": {
     "end_time": "2020-08-21T21:11:24.199661Z",
     "start_time": "2020-08-21T21:11:23.335075Z"
    }
   },
   "outputs": [],
   "source": [
    "# Split train in train/val, where val are the last two months\n",
    "val = train_test[train_test.date_block_num==33].copy()\n",
    "train = train_test[(train_test.date_block_num<33)&(train_test.date_block_num>11)].copy()\n",
    "test = train_test[(train_test.date_block_num==34)].copy()\n",
    "\n",
    "del train_test\n",
    "gc.collect();"
   ]
  },
  {
   "cell_type": "markdown",
   "metadata": {},
   "source": [
    "### Add mean features shop"
   ]
  },
  {
   "cell_type": "code",
   "execution_count": 41,
   "metadata": {
    "ExecuteTime": {
     "end_time": "2020-08-21T21:11:24.545312Z",
     "start_time": "2020-08-21T21:11:24.201489Z"
    }
   },
   "outputs": [],
   "source": [
    "# Add mean sell per shop\n",
    "train[\"shop_avg\"] = train.groupby(\"shop_id\")[\"item_cnt_month\"].transform(\"mean\")\n",
    "val[\"shop_avg\"] = val[\"shop_id\"].map(train.groupby(\"shop_id\")[\"item_cnt_month\"].mean())\n",
    "val[\"shop_avg\"].fillna(0, inplace=True)\n",
    "test[\"shop_avg\"] = test[\"shop_id\"].map(train.groupby(\"shop_id\")[\"item_cnt_month\"].mean())\n",
    "test[\"shop_avg\"].fillna(0, inplace=True)"
   ]
  },
  {
   "cell_type": "markdown",
   "metadata": {},
   "source": [
    "### Add mean features item"
   ]
  },
  {
   "cell_type": "code",
   "execution_count": 42,
   "metadata": {
    "ExecuteTime": {
     "end_time": "2020-08-21T21:11:25.031533Z",
     "start_time": "2020-08-21T21:11:24.546770Z"
    }
   },
   "outputs": [],
   "source": [
    "# Add mean sell per item. \n",
    "train[\"item_avg\"] = train.groupby(\"item_id\")[\"item_cnt_month\"].transform(\"mean\")\n",
    "val[\"item_avg\"] = val[\"item_id\"].map(train.groupby(\"item_id\")[\"item_cnt_month\"].mean())\n",
    "val[\"item_avg\"].fillna(0, inplace=True)\n",
    "test[\"item_avg\"] = test[\"item_id\"].map(train.groupby(\"item_id\")[\"item_cnt_month\"].mean())\n",
    "test[\"item_avg\"].fillna(0, inplace=True)"
   ]
  },
  {
   "cell_type": "code",
   "execution_count": 43,
   "metadata": {
    "ExecuteTime": {
     "end_time": "2020-08-21T21:11:28.898029Z",
     "start_time": "2020-08-21T21:11:25.033039Z"
    }
   },
   "outputs": [
    {
     "name": "stdout",
     "output_type": "stream",
     "text": [
      "Memory used by data frame: 478.72 MB.\n",
      "Memory used after optimization: 419.72 MB.\n",
      "Memory usage reduced by 12.3%.\n",
      "Memory used by data frame: 19.19 MB.\n",
      "Memory used after optimization: 16.92 MB.\n",
      "Memory usage reduced by 11.8%.\n"
     ]
    }
   ],
   "source": [
    "train = reduce_mem_usage(train)\n",
    "val = reduce_mem_usage(val)"
   ]
  },
  {
   "cell_type": "markdown",
   "metadata": {},
   "source": [
    "## Test Features with LightGBM"
   ]
  },
  {
   "cell_type": "code",
   "execution_count": 44,
   "metadata": {
    "ExecuteTime": {
     "end_time": "2020-08-21T21:11:28.904329Z",
     "start_time": "2020-08-21T21:11:28.899667Z"
    }
   },
   "outputs": [
    {
     "data": {
      "text/plain": [
       "['shop_id',\n",
       " 'item_id',\n",
       " 'item_cnt_month',\n",
       " 'item_name',\n",
       " 'item_category_id',\n",
       " 'type_code',\n",
       " 'subtype_code',\n",
       " 'city_code',\n",
       " 'ID',\n",
       " 'item_cnt_month_lag_1',\n",
       " 'item_cnt_month_lag_2',\n",
       " 'item_cnt_month_lag_3',\n",
       " 'item_cnt_month_lag_4',\n",
       " 'item_cnt_month_lag_6',\n",
       " 'item_cnt_month_lag_12',\n",
       " 'month',\n",
       " 'holidays',\n",
       " 'days_in_month',\n",
       " 'avg_last_3',\n",
       " 'item_avg_lag',\n",
       " 'item_avg_lag_2',\n",
       " 'item_avg_lag_3',\n",
       " 'shop_avg_lag',\n",
       " 'shop_avg_lag_2',\n",
       " 'shop_avg_lag_3',\n",
       " 'date_item_avg_item_cnt_lag_1',\n",
       " 'date_item_avg_item_cnt_lag_2',\n",
       " 'date_item_avg_item_cnt_lag_3',\n",
       " 'date_item_max_cnt_lag_1',\n",
       " 'avg_last_3_shop',\n",
       " 'shop_avg',\n",
       " 'item_avg']"
      ]
     },
     "execution_count": 44,
     "metadata": {},
     "output_type": "execute_result"
    }
   ],
   "source": [
    "# Possible features\n",
    "features = list(train.columns)[1:]\n",
    "features"
   ]
  },
  {
   "cell_type": "code",
   "execution_count": 45,
   "metadata": {
    "ExecuteTime": {
     "end_time": "2020-08-21T21:11:28.919970Z",
     "start_time": "2020-08-21T21:11:28.906203Z"
    }
   },
   "outputs": [],
   "source": [
    "label = \"item_cnt_month\"\n",
    "features_to_test = [\"shop_id\", \"item_id\", \"item_category_id\",\"type_code\",\"subtype_code\",\"city_code\"\\\n",
    "                    ,\"date_block_num\", \"item_cnt_month_lag_1\"\\\n",
    "                   ,'item_cnt_month_lag_2','item_cnt_month_lag_3','item_cnt_month_lag_4','item_cnt_month_lag_6'\n",
    "                    ,\"item_cnt_month_lag_12\", \"shop_avg\", \"avg_last_3\", \"avg_last_3_shop\", \"month\",\"holidays\"\\\n",
    "                   , \"days_in_month\"]#, 'date_item_avg_item_cnt_lag_1',\n",
    "# 'date_item_avg_item_cnt_lag_2','date_item_avg_item_cnt_lag_3','date_item_max_cnt_lag_1']#, 'item_avg_lag']\n",
    "\n",
    "features_to_drop = set(features).difference(set(features_to_test+[\"item_cnt_month\"]))\n",
    "#train.drop(features_to_drop, axis=1, inplace=True)\n",
    "#val.drop(features_to_drop, axis=1, inplace=True)\n",
    "\n",
    " #'item_avg_lag_2',\n",
    " #'item_avg_lag_3',\n",
    " #'shop_avg_lag',\n",
    " #'shop_avg_lag_2',\n",
    " #'shop_avg_lag_3',]"
   ]
  },
  {
   "cell_type": "code",
   "execution_count": 46,
   "metadata": {
    "ExecuteTime": {
     "end_time": "2020-08-21T21:11:29.217020Z",
     "start_time": "2020-08-21T21:11:28.922550Z"
    }
   },
   "outputs": [],
   "source": [
    "X = train[features_to_test]\n",
    "Y = train[label]\n",
    "X_val = val[features_to_test]\n",
    "Y_val = val[label]"
   ]
  },
  {
   "cell_type": "code",
   "execution_count": 47,
   "metadata": {
    "ExecuteTime": {
     "end_time": "2020-08-21T21:13:18.705797Z",
     "start_time": "2020-08-21T21:11:29.218685Z"
    }
   },
   "outputs": [
    {
     "name": "stderr",
     "output_type": "stream",
     "text": [
      "/home/lars/anaconda3/envs/predictSale/lib/python3.8/site-packages/lightgbm/engine.py:148: UserWarning: Found `num_iterations` in params. Will use it instead of argument\n",
      "  warnings.warn(\"Found `{}` in params. Will use it instead of argument\".format(alias))\n"
     ]
    },
    {
     "name": "stdout",
     "output_type": "stream",
     "text": [
      "[1]\tvalid_0's rmse: 1.12653\n",
      "Training until validation scores don't improve for 50 rounds\n",
      "[2]\tvalid_0's rmse: 1.11435\n",
      "[3]\tvalid_0's rmse: 1.10361\n",
      "[4]\tvalid_0's rmse: 1.0932\n",
      "[5]\tvalid_0's rmse: 1.08404\n",
      "[6]\tvalid_0's rmse: 1.07412\n",
      "[7]\tvalid_0's rmse: 1.06562\n",
      "[8]\tvalid_0's rmse: 1.05719\n",
      "[9]\tvalid_0's rmse: 1.04836\n",
      "[10]\tvalid_0's rmse: 1.04015\n",
      "[11]\tvalid_0's rmse: 1.03288\n",
      "[12]\tvalid_0's rmse: 1.02624\n",
      "[13]\tvalid_0's rmse: 1.0208\n",
      "[14]\tvalid_0's rmse: 1.01431\n",
      "[15]\tvalid_0's rmse: 1.00838\n",
      "[16]\tvalid_0's rmse: 1.00224\n",
      "[17]\tvalid_0's rmse: 0.99696\n",
      "[18]\tvalid_0's rmse: 0.992921\n",
      "[19]\tvalid_0's rmse: 0.98909\n",
      "[20]\tvalid_0's rmse: 0.984309\n",
      "[21]\tvalid_0's rmse: 0.980665\n",
      "[22]\tvalid_0's rmse: 0.975971\n",
      "[23]\tvalid_0's rmse: 0.972095\n",
      "[24]\tvalid_0's rmse: 0.969028\n",
      "[25]\tvalid_0's rmse: 0.965744\n",
      "[26]\tvalid_0's rmse: 0.962739\n",
      "[27]\tvalid_0's rmse: 0.959451\n",
      "[28]\tvalid_0's rmse: 0.956591\n",
      "[29]\tvalid_0's rmse: 0.954735\n",
      "[30]\tvalid_0's rmse: 0.952736\n",
      "[31]\tvalid_0's rmse: 0.950487\n",
      "[32]\tvalid_0's rmse: 0.947845\n",
      "[33]\tvalid_0's rmse: 0.945772\n",
      "[34]\tvalid_0's rmse: 0.943754\n",
      "[35]\tvalid_0's rmse: 0.941771\n",
      "[36]\tvalid_0's rmse: 0.939728\n",
      "[37]\tvalid_0's rmse: 0.93804\n",
      "[38]\tvalid_0's rmse: 0.93643\n",
      "[39]\tvalid_0's rmse: 0.935314\n",
      "[40]\tvalid_0's rmse: 0.933304\n",
      "[41]\tvalid_0's rmse: 0.93223\n",
      "[42]\tvalid_0's rmse: 0.930981\n",
      "[43]\tvalid_0's rmse: 0.92964\n",
      "[44]\tvalid_0's rmse: 0.928517\n",
      "[45]\tvalid_0's rmse: 0.927995\n",
      "[46]\tvalid_0's rmse: 0.927129\n",
      "[47]\tvalid_0's rmse: 0.92692\n",
      "[48]\tvalid_0's rmse: 0.926358\n",
      "[49]\tvalid_0's rmse: 0.925759\n",
      "[50]\tvalid_0's rmse: 0.924741\n",
      "[51]\tvalid_0's rmse: 0.924716\n",
      "[52]\tvalid_0's rmse: 0.923853\n",
      "[53]\tvalid_0's rmse: 0.923303\n",
      "[54]\tvalid_0's rmse: 0.922801\n",
      "[55]\tvalid_0's rmse: 0.922197\n",
      "[56]\tvalid_0's rmse: 0.921494\n",
      "[57]\tvalid_0's rmse: 0.920917\n",
      "[58]\tvalid_0's rmse: 0.920366\n",
      "[59]\tvalid_0's rmse: 0.919821\n",
      "[60]\tvalid_0's rmse: 0.9191\n",
      "[61]\tvalid_0's rmse: 0.918821\n",
      "[62]\tvalid_0's rmse: 0.918456\n",
      "[63]\tvalid_0's rmse: 0.917884\n",
      "[64]\tvalid_0's rmse: 0.917693\n",
      "[65]\tvalid_0's rmse: 0.917403\n",
      "[66]\tvalid_0's rmse: 0.917054\n",
      "[67]\tvalid_0's rmse: 0.916605\n",
      "[68]\tvalid_0's rmse: 0.916384\n",
      "[69]\tvalid_0's rmse: 0.91665\n",
      "[70]\tvalid_0's rmse: 0.916059\n",
      "[71]\tvalid_0's rmse: 0.915865\n",
      "[72]\tvalid_0's rmse: 0.915718\n",
      "[73]\tvalid_0's rmse: 0.916063\n",
      "[74]\tvalid_0's rmse: 0.915796\n",
      "[75]\tvalid_0's rmse: 0.915823\n",
      "[76]\tvalid_0's rmse: 0.915609\n",
      "[77]\tvalid_0's rmse: 0.915388\n",
      "[78]\tvalid_0's rmse: 0.915207\n",
      "[79]\tvalid_0's rmse: 0.914825\n",
      "[80]\tvalid_0's rmse: 0.914737\n",
      "[81]\tvalid_0's rmse: 0.914574\n",
      "[82]\tvalid_0's rmse: 0.914427\n",
      "[83]\tvalid_0's rmse: 0.914241\n",
      "[84]\tvalid_0's rmse: 0.914006\n",
      "[85]\tvalid_0's rmse: 0.913763\n",
      "[86]\tvalid_0's rmse: 0.913651\n",
      "[87]\tvalid_0's rmse: 0.913445\n",
      "[88]\tvalid_0's rmse: 0.91339\n",
      "[89]\tvalid_0's rmse: 0.913224\n",
      "[90]\tvalid_0's rmse: 0.913058\n",
      "[91]\tvalid_0's rmse: 0.912997\n",
      "[92]\tvalid_0's rmse: 0.912963\n",
      "[93]\tvalid_0's rmse: 0.912898\n",
      "[94]\tvalid_0's rmse: 0.912737\n",
      "[95]\tvalid_0's rmse: 0.912686\n",
      "[96]\tvalid_0's rmse: 0.912503\n",
      "[97]\tvalid_0's rmse: 0.912415\n",
      "[98]\tvalid_0's rmse: 0.912313\n",
      "[99]\tvalid_0's rmse: 0.91223\n",
      "[100]\tvalid_0's rmse: 0.912204\n",
      "[101]\tvalid_0's rmse: 0.912098\n",
      "[102]\tvalid_0's rmse: 0.911934\n",
      "[103]\tvalid_0's rmse: 0.911949\n",
      "[104]\tvalid_0's rmse: 0.912146\n",
      "[105]\tvalid_0's rmse: 0.912108\n",
      "[106]\tvalid_0's rmse: 0.912011\n",
      "[107]\tvalid_0's rmse: 0.911946\n",
      "[108]\tvalid_0's rmse: 0.91197\n",
      "[109]\tvalid_0's rmse: 0.912044\n",
      "[110]\tvalid_0's rmse: 0.912085\n",
      "[111]\tvalid_0's rmse: 0.912075\n",
      "[112]\tvalid_0's rmse: 0.912007\n",
      "[113]\tvalid_0's rmse: 0.911931\n",
      "[114]\tvalid_0's rmse: 0.911862\n",
      "[115]\tvalid_0's rmse: 0.911857\n",
      "[116]\tvalid_0's rmse: 0.911843\n",
      "[117]\tvalid_0's rmse: 0.911837\n",
      "[118]\tvalid_0's rmse: 0.911539\n",
      "[119]\tvalid_0's rmse: 0.911606\n",
      "[120]\tvalid_0's rmse: 0.911381\n",
      "[121]\tvalid_0's rmse: 0.911294\n",
      "[122]\tvalid_0's rmse: 0.911179\n",
      "[123]\tvalid_0's rmse: 0.911177\n",
      "[124]\tvalid_0's rmse: 0.911128\n",
      "[125]\tvalid_0's rmse: 0.911201\n",
      "[126]\tvalid_0's rmse: 0.911241\n",
      "[127]\tvalid_0's rmse: 0.911207\n",
      "[128]\tvalid_0's rmse: 0.911126\n",
      "[129]\tvalid_0's rmse: 0.911015\n",
      "[130]\tvalid_0's rmse: 0.911212\n",
      "[131]\tvalid_0's rmse: 0.911263\n",
      "[132]\tvalid_0's rmse: 0.911334\n",
      "[133]\tvalid_0's rmse: 0.911412\n",
      "[134]\tvalid_0's rmse: 0.911329\n",
      "[135]\tvalid_0's rmse: 0.911432\n",
      "[136]\tvalid_0's rmse: 0.911436\n",
      "[137]\tvalid_0's rmse: 0.911432\n",
      "[138]\tvalid_0's rmse: 0.911162\n",
      "[139]\tvalid_0's rmse: 0.911391\n",
      "[140]\tvalid_0's rmse: 0.911361\n",
      "[141]\tvalid_0's rmse: 0.911411\n",
      "[142]\tvalid_0's rmse: 0.911273\n",
      "[143]\tvalid_0's rmse: 0.91137\n",
      "[144]\tvalid_0's rmse: 0.911391\n",
      "[145]\tvalid_0's rmse: 0.91123\n",
      "[146]\tvalid_0's rmse: 0.911251\n",
      "[147]\tvalid_0's rmse: 0.911249\n",
      "[148]\tvalid_0's rmse: 0.911267\n",
      "[149]\tvalid_0's rmse: 0.911301\n",
      "[150]\tvalid_0's rmse: 0.911288\n",
      "[151]\tvalid_0's rmse: 0.91142\n",
      "[152]\tvalid_0's rmse: 0.911589\n",
      "[153]\tvalid_0's rmse: 0.911648\n",
      "[154]\tvalid_0's rmse: 0.911654\n",
      "[155]\tvalid_0's rmse: 0.91146\n",
      "[156]\tvalid_0's rmse: 0.911412\n",
      "[157]\tvalid_0's rmse: 0.91135\n",
      "[158]\tvalid_0's rmse: 0.911369\n",
      "[159]\tvalid_0's rmse: 0.91157\n",
      "[160]\tvalid_0's rmse: 0.911755\n",
      "[161]\tvalid_0's rmse: 0.911631\n",
      "[162]\tvalid_0's rmse: 0.911654\n",
      "[163]\tvalid_0's rmse: 0.911684\n",
      "[164]\tvalid_0's rmse: 0.911628\n",
      "[165]\tvalid_0's rmse: 0.911941\n",
      "[166]\tvalid_0's rmse: 0.911801\n",
      "[167]\tvalid_0's rmse: 0.911638\n",
      "[168]\tvalid_0's rmse: 0.911661\n",
      "[169]\tvalid_0's rmse: 0.911554\n",
      "[170]\tvalid_0's rmse: 0.911418\n",
      "[171]\tvalid_0's rmse: 0.911461\n",
      "[172]\tvalid_0's rmse: 0.911433\n",
      "[173]\tvalid_0's rmse: 0.911421\n",
      "[174]\tvalid_0's rmse: 0.911428\n",
      "[175]\tvalid_0's rmse: 0.91145\n",
      "[176]\tvalid_0's rmse: 0.911375\n",
      "[177]\tvalid_0's rmse: 0.911212\n",
      "[178]\tvalid_0's rmse: 0.911167\n",
      "[179]\tvalid_0's rmse: 0.911298\n",
      "Early stopping, best iteration is:\n",
      "[129]\tvalid_0's rmse: 0.911015\n",
      "CPU times: user 6min 58s, sys: 4.09 s, total: 7min 2s\n",
      "Wall time: 1min 49s\n"
     ]
    },
    {
     "data": {
      "text/plain": [
       "LGBMRegressor(bagging_fraction=0.75, bagging_freq=1, bagging_seed=128,\n",
       "              feature_fraction=0.75, learning_rate=0.03, metric='rmse',\n",
       "              min_data_in_leaf=128, nthread=1, num_iterations=500,\n",
       "              num_leaves=128, objective='mse', verbose=1)"
      ]
     },
     "execution_count": 47,
     "metadata": {},
     "output_type": "execute_result"
    }
   ],
   "source": [
    "%%time\n",
    "# hyper_params = {\n",
    "#     'task': 'train',\n",
    "#     'boosting_type': 'gbdt',\n",
    "#     'objective': 'regression',\n",
    "#     'metric': ['l2'],\n",
    "#     'learning_rate': 0.1,\n",
    "#     'feature_fraction': 0.9,\n",
    "#     'bagging_fraction': 0.7,\n",
    "#     'bagging_freq': 10,\n",
    "#     'verbose': 0,\n",
    "#     \"max_depth\": 8,\n",
    "#     \"num_leaves\": 128,  \n",
    "#     \"max_bin\": 512,\n",
    "#     \"num_iterations\": 200,\n",
    "#     \"n_estimators\": 30\n",
    "# }\n",
    "lgb_params = {\n",
    "                   'feature_fraction': 0.75,\n",
    "                   'metric': 'rmse',\n",
    "                   'nthread':1,\n",
    "                   'min_data_in_leaf': 2**7,\n",
    "                   'bagging_fraction': 0.75,\n",
    "                   'learning_rate': 0.03,\n",
    "                   'objective': 'mse',\n",
    "                   'bagging_seed': 2**7,\n",
    "                   'num_leaves': 2**7,\n",
    "                   'bagging_freq':1,\n",
    "                   'verbose':1,\n",
    "                    'num_iterations':500\n",
    "                   }\n",
    "\n",
    "gbm = lgb.LGBMRegressor(**lgb_params)\n",
    "gbm.fit(X, Y,\n",
    "        eval_set=[(X_val, Y_val)],\n",
    "        eval_metric='rmse',\n",
    "        early_stopping_rounds=50)"
   ]
  },
  {
   "cell_type": "code",
   "execution_count": 48,
   "metadata": {
    "ExecuteTime": {
     "end_time": "2020-08-21T21:13:19.054848Z",
     "start_time": "2020-08-21T21:13:18.707712Z"
    }
   },
   "outputs": [
    {
     "data": {
      "text/plain": [
       "<matplotlib.axes._subplots.AxesSubplot at 0x7fd2124d3370>"
      ]
     },
     "execution_count": 48,
     "metadata": {},
     "output_type": "execute_result"
    },
    {
     "data": {
      "image/png": "[encoded data removed]",
      "text/plain": [
       "<Figure size 432x288 with 1 Axes>"
      ]
     },
     "metadata": {
      "needs_background": "light"
     },
     "output_type": "display_data"
    }
   ],
   "source": [
    "lgb.plot_importance(gbm)"
   ]
  },
  {
   "cell_type": "markdown",
   "metadata": {},
   "source": [
    "### Train XGB"
   ]
  },
  {
   "cell_type": "code",
   "execution_count": 49,
   "metadata": {
    "ExecuteTime": {
     "end_time": "2020-08-21T21:13:19.119022Z",
     "start_time": "2020-08-21T21:13:19.056562Z"
    }
   },
   "outputs": [
    {
     "data": {
      "text/plain": [
       "57"
      ]
     },
     "execution_count": 49,
     "metadata": {},
     "output_type": "execute_result"
    }
   ],
   "source": [
    "gc.collect()\n",
    "# model = XGBRegressor(\n",
    "#     max_depth=8,\n",
    "#     n_estimators=1000,\n",
    "#     min_child_weight=300, \n",
    "#     colsample_bytree=0.8, \n",
    "#     subsample=0.8, \n",
    "#     eta=0.3,    \n",
    "#     seed=42)\n",
    "\n",
    "# model.fit(\n",
    "#     X, \n",
    "#     Y, \n",
    "#     eval_metric=\"rmse\", \n",
    "#     eval_set=[(X, Y), (X_val, Y_val)], \n",
    "#     verbose=True, \n",
    "#     early_stopping_rounds = 10)"
   ]
  },
  {
   "cell_type": "markdown",
   "metadata": {},
   "source": [
    "### Train linear model"
   ]
  },
  {
   "cell_type": "code",
   "execution_count": 50,
   "metadata": {
    "ExecuteTime": {
     "end_time": "2020-08-21T21:13:33.575702Z",
     "start_time": "2020-08-21T21:13:19.121310Z"
    },
    "code_folding": []
   },
   "outputs": [
    {
     "name": "stdout",
     "output_type": "stream",
     "text": [
      "-- Epoch 1\n",
      "Norm: 0.65, NNZs: 19, Bias: 0.285933, T: 6186922, Avg. loss: 0.512636\n",
      "Total training time: 1.58 seconds.\n",
      "-- Epoch 2\n",
      "Norm: 0.55, NNZs: 19, Bias: 0.278151, T: 12373844, Avg. loss: 0.511551\n",
      "Total training time: 3.16 seconds.\n",
      "-- Epoch 3\n",
      "Norm: 0.60, NNZs: 19, Bias: 0.280901, T: 18560766, Avg. loss: 0.511266\n",
      "Total training time: 4.74 seconds.\n",
      "-- Epoch 4\n",
      "Norm: 0.68, NNZs: 19, Bias: 0.285986, T: 24747688, Avg. loss: 0.511111\n",
      "Total training time: 6.31 seconds.\n",
      "-- Epoch 5\n",
      "Norm: 0.57, NNZs: 19, Bias: 0.275452, T: 30934610, Avg. loss: 0.511030\n",
      "Total training time: 7.89 seconds.\n",
      "-- Epoch 6\n",
      "Norm: 0.65, NNZs: 19, Bias: 0.291972, T: 37121532, Avg. loss: 0.510945\n",
      "Total training time: 9.47 seconds.\n",
      "-- Epoch 7\n",
      "Norm: 0.59, NNZs: 19, Bias: 0.263720, T: 43308454, Avg. loss: 0.510802\n",
      "Total training time: 11.05 seconds.\n",
      "Convergence after 7 epochs took 11.05 seconds\n"
     ]
    },
    {
     "data": {
      "text/plain": [
       "SGDRegressor(random_state=0, verbose=1)"
      ]
     },
     "execution_count": 50,
     "metadata": {},
     "output_type": "execute_result"
    }
   ],
   "source": [
    "ss = StandardScaler()\n",
    "\n",
    "X_lin = ss.fit_transform(X)\n",
    "X_lin_val = ss.transform(X_val)\n",
    "X_lin_test = ss.transform(test[features_to_test])\n",
    "\n",
    "sgdr= SGDRegressor(\n",
    "         penalty = 'l2' ,\n",
    "         random_state = 0,\n",
    "        verbose=1)\n",
    "sgdr.fit(X_lin,Y)"
   ]
  },
  {
   "cell_type": "code",
   "execution_count": 51,
   "metadata": {
    "ExecuteTime": {
     "end_time": "2020-08-21T21:13:33.580043Z",
     "start_time": "2020-08-21T21:13:33.577269Z"
    }
   },
   "outputs": [],
   "source": [
    "def rmse(label, pred):\n",
    "    return np.sqrt(mean_squared_error(label, pred))"
   ]
  },
  {
   "cell_type": "code",
   "execution_count": 52,
   "metadata": {
    "ExecuteTime": {
     "end_time": "2020-08-21T21:13:33.623604Z",
     "start_time": "2020-08-21T21:13:33.581409Z"
    }
   },
   "outputs": [
    {
     "name": "stdout",
     "output_type": "stream",
     "text": [
      "RMSE SGDR: 1.0128444926781628\n"
     ]
    }
   ],
   "source": [
    "print(\"RMSE SGDR:\", rmse(Y_val, sgdr.predict(X_lin_val)))"
   ]
  },
  {
   "cell_type": "markdown",
   "metadata": {},
   "source": [
    "### Create Ensemble"
   ]
  },
  {
   "cell_type": "code",
   "execution_count": 56,
   "metadata": {
    "ExecuteTime": {
     "end_time": "2020-08-21T21:19:16.904079Z",
     "start_time": "2020-08-21T21:19:15.842544Z"
    }
   },
   "outputs": [
    {
     "name": "stdout",
     "output_type": "stream",
     "text": [
      "Best RMSE: 0.9110149141402873\n",
      "Alpha: 0.0\n"
     ]
    }
   ],
   "source": [
    "alpha = np.linspace(0,1,20)\n",
    "best_score = 0\n",
    "pred_gbm = gbm.predict(X_val)\n",
    "pred_sgdr = sgdr.predict(X_lin_val)\n",
    "for a in alpha:\n",
    "    score = rmse(Y_val, a * pred_gbm+ (1-a)*pred_sgdr)\n",
    "    if score>best_score:\n",
    "        best_score=score\n",
    "        best_alpha = a\n",
    "        \n",
    "print(\"Best RMSE:\", score)\n",
    "print(\"Alpha:\", best_alpha)"
   ]
  },
  {
   "cell_type": "markdown",
   "metadata": {},
   "source": [
    "### Submit"
   ]
  },
  {
   "cell_type": "code",
   "execution_count": 54,
   "metadata": {
    "ExecuteTime": {
     "end_time": "2020-08-21T21:13:34.680375Z",
     "start_time": "2020-08-21T21:13:34.676867Z"
    }
   },
   "outputs": [],
   "source": [
    "def predict(model, df):\n",
    "    return model.predict(df[features_to_test])"
   ]
  },
  {
   "cell_type": "code",
   "execution_count": 55,
   "metadata": {
    "ExecuteTime": {
     "end_time": "2020-08-21T21:13:36.118293Z",
     "start_time": "2020-08-21T21:13:34.682569Z"
    }
   },
   "outputs": [
    {
     "name": "stdout",
     "output_type": "stream",
     "text": [
      "Your submission was successfully saved!\n"
     ]
    }
   ],
   "source": [
    "preds = predict(gbm, test)\n",
    "submission = pd.DataFrame({\"ID\":test[\"ID\"].astype(int), \"item_cnt_month\":preds.clip(0,20)})\n",
    "\n",
    "submission.to_csv('my_submission.csv', index=False)\n",
    "print(\"Your submission was successfully saved!\")"
   ]
  }
 ],
 "metadata": {
  "hide_input": false,
  "kernelspec": {
   "display_name": "Python 3",
   "language": "python",
   "name": "python3"
  },
  "language_info": {
   "codemirror_mode": {
    "name": "ipython",
    "version": 3
   },
   "file_extension": ".py",
   "mimetype": "text/x-python",
   "name": "python",
   "nbconvert_exporter": "python",
   "pygments_lexer": "ipython3",
   "version": "3.8.5"
  },
  "varInspector": {
   "cols": {
    "lenName": 16,
    "lenType": 16,
    "lenVar": 40
   },
   "kernels_config": {
    "python": {
     "delete_cmd_postfix": "",
     "delete_cmd_prefix": "del ",
     "library": "var_list.py",
     "varRefreshCmd": "print(var_dic_list())"
    },
    "r": {
     "delete_cmd_postfix": ") ",
     "delete_cmd_prefix": "rm(",
     "library": "var_list.r",
     "varRefreshCmd": "cat(var_dic_list()) "
    }
   },
   "types_to_exclude": [
    "module",
    "function",
    "builtin_function_or_method",
    "instance",
    "_Feature"
   ],
   "window_display": false
  }
 },
 "nbformat": 4,
 "nbformat_minor": 4
}
